{
 "cells": [
  {
   "cell_type": "markdown",
   "metadata": {},
   "source": [
    "#MLHEP2015: on unsupervised learning and fish brains\n",
    "\n",
    "There are certain species of fish, beloved by the neurobiologists for their (almost) absolute transparency during the first weeks of life. One of such fish species is known as the zebrafish (or Danio Rerio).\n",
    "\n",
    "\n",
    "The dataset you are going to work with contains time series of zebrafish brain scans. The time series are 240s, one data point per second."
   ]
  },
  {
   "cell_type": "code",
   "execution_count": null,
   "metadata": {
    "collapsed": false
   },
   "outputs": [],
   "source": [
    "import os\n",
    "import pandas as pd\n",
    "import numpy as np\n",
    "import matplotlib.pyplot as plt\n",
    "%matplotlib inline\n",
    "%load_ext autoreload\n",
    "%autoreload 2"
   ]
  },
  {
   "cell_type": "code",
   "execution_count": null,
   "metadata": {
    "collapsed": false
   },
   "outputs": [],
   "source": [
    "timeSeries = pd.DataFrame.from_csv(\"Mr.fish\")\n",
    "\n",
    "timeSeries = np.array(timeSeries)"
   ]
  },
  {
   "cell_type": "markdown",
   "metadata": {},
   "source": [
    "#Greet Mr. Fish\n",
    "This way you can draw a picture of some zebrafish-related data as an image. In this case we print a t=0 snapshot of the brain"
   ]
  },
  {
   "cell_type": "code",
   "execution_count": null,
   "metadata": {
    "collapsed": false
   },
   "outputs": [],
   "source": [
    "from zebrafish_drawing_factory import draw_component\n",
    "\n",
    "draw_component(timeSeries[:,1]) #at t=0 here"
   ]
  },
  {
   "cell_type": "markdown",
   "metadata": {},
   "source": [
    "#####QUEST:\n",
    "Plot a snapshot (image for a fixed time moment) for a different t between 0 and 239."
   ]
  },
  {
   "cell_type": "code",
   "execution_count": null,
   "metadata": {
    "collapsed": false
   },
   "outputs": [],
   "source": [
    "<your code>"
   ]
  },
  {
   "cell_type": "markdown",
   "metadata": {},
   "source": [
    "#Individual neurons\n",
    "Here we plot activity time series for several random neurons"
   ]
  },
  {
   "cell_type": "code",
   "execution_count": null,
   "metadata": {
    "collapsed": false
   },
   "outputs": [],
   "source": [
    "time_points = np.arange(240)\n",
    "\n",
    "plt.figure(figsize=[10,10])\n",
    "\n",
    "plt.plot(time_points,timeSeries[20222,:])\n",
    "plt.plot(time_points,timeSeries[12345,:])\n",
    "plt.plot(time_points,timeSeries[10000,:])\n",
    "\n",
    "    "
   ]
  },
  {
   "cell_type": "markdown",
   "metadata": {},
   "source": [
    "#####QUEST:\n",
    "You are given several pixel indices. \n",
    "Try plotting the activities of the corresponding pixels."
   ]
  },
  {
   "cell_type": "code",
   "execution_count": null,
   "metadata": {
    "collapsed": false
   },
   "outputs": [],
   "source": [
    "pixel_ids = np.random.randint(0,timeSeries.shape[0],30)\n",
    "\n",
    "#your code: plot the pixels with corresponding ids"
   ]
  },
  {
   "cell_type": "markdown",
   "metadata": {
    "collapsed": true
   },
   "source": [
    "#Let machines do the dirty work for us\n",
    "#####QUEST: \n",
    "Find the top-10 (or more) principial components of the data."
   ]
  },
  {
   "cell_type": "code",
   "execution_count": null,
   "metadata": {
    "collapsed": false
   },
   "outputs": [],
   "source": [
    "from sklearn.decomposition import PCA\n",
    "\n",
    "pca_model = <Your code: create and fit the PCA model>\n"
   ]
  },
  {
   "cell_type": "code",
   "execution_count": null,
   "metadata": {
    "collapsed": false
   },
   "outputs": [],
   "source": [
    "#let us view the components\n",
    "\n",
    "for i in range(10):\n",
    "    plt.plot(pca_model.components_[i])\n",
    "    plt.show()"
   ]
  },
  {
   "cell_type": "markdown",
   "metadata": {},
   "source": [
    "####Now we shall compute principial component values for the neurons|"
   ]
  },
  {
   "cell_type": "code",
   "execution_count": null,
   "metadata": {
    "collapsed": false
   },
   "outputs": [],
   "source": [
    "timeSeries_pca = pca_model.transform(timeSeries)"
   ]
  },
  {
   "cell_type": "code",
   "execution_count": null,
   "metadata": {
    "collapsed": false
   },
   "outputs": [],
   "source": [
    "print timeSeries_pca[:10,:5]"
   ]
  },
  {
   "cell_type": "markdown",
   "metadata": {},
   "source": [
    "###... and view the areas  where these components occur\n",
    "#####QUEST:\n",
    "Draw the intensity map for the 2nd principial component with draw_component, just like you did before."
   ]
  },
  {
   "cell_type": "code",
   "execution_count": null,
   "metadata": {
    "collapsed": false
   },
   "outputs": [],
   "source": [
    "<your code>"
   ]
  },
  {
   "cell_type": "code",
   "execution_count": null,
   "metadata": {
    "collapsed": false
   },
   "outputs": [],
   "source": [
    "from zebrafish_drawing_factory import draw_two_components\n",
    "\n",
    "draw_two_components(timeSeries_pca[:,3],timeSeries_pca[:,4])"
   ]
  },
  {
   "cell_type": "code",
   "execution_count": null,
   "metadata": {
    "collapsed": true
   },
   "outputs": [],
   "source": [
    "#plot pairs of different components\n",
    "<your code>"
   ]
  },
  {
   "cell_type": "markdown",
   "metadata": {},
   "source": [
    "#Extracting features from time series\n",
    "The vanilla PCA only captures the linear components of the data.\n",
    "In order to find nonlinear structure in it, we should extract features from the data, to than feed then to the PCA."
   ]
  },
  {
   "cell_type": "code",
   "execution_count": null,
   "metadata": {
    "collapsed": true
   },
   "outputs": [],
   "source": [
    "def extract_features(impulses):\n",
    "    features = []\n",
    "    \n",
    "    #example features: sum every 10-th element for each of 10 features (with different starting positions)\n",
    "    for i in range(0,10,1):\n",
    "        features.append(np.sum(impulses[i::10]))\n",
    "        \n",
    "    return features"
   ]
  },
  {
   "cell_type": "code",
   "execution_count": null,
   "metadata": {
    "collapsed": false
   },
   "outputs": [],
   "source": [
    "timeSeries_features = np.array(map(extract_features, timeSeries)).astype(float)"
   ]
  },
  {
   "cell_type": "code",
   "execution_count": null,
   "metadata": {
    "collapsed": false
   },
   "outputs": [],
   "source": [
    "timeSeries_features[:10,:5]"
   ]
  },
  {
   "cell_type": "markdown",
   "metadata": {},
   "source": [
    "#####QUEST:\n",
    "Extract PCA features from the data. NOTE that your model only knows how to handle the features data, not the raw time series."
   ]
  },
  {
   "cell_type": "code",
   "execution_count": null,
   "metadata": {
    "collapsed": false
   },
   "outputs": [],
   "source": [
    "pca_features = <your code>"
   ]
  },
  {
   "cell_type": "code",
   "execution_count": null,
   "metadata": {
    "collapsed": true
   },
   "outputs": [],
   "source": [
    "timeSeries_features_pca = pca.transform(timeSeries_features)#<your code>"
   ]
  },
  {
   "cell_type": "markdown",
   "metadata": {},
   "source": [
    "###See what we found...\n",
    "\n",
    "#####QUEST: draw some plots to explore the data"
   ]
  },
  {
   "cell_type": "code",
   "execution_count": null,
   "metadata": {
    "collapsed": false
   },
   "outputs": [],
   "source": [
    "#optional: plot the components \n"
   ]
  },
  {
   "cell_type": "code",
   "execution_count": null,
   "metadata": {
    "collapsed": false
   },
   "outputs": [],
   "source": [
    "draw_component(timeSeries_pca[:,1])"
   ]
  },
  {
   "cell_type": "code",
   "execution_count": null,
   "metadata": {
    "collapsed": false
   },
   "outputs": [],
   "source": [
    "draw_two_components(timeSeries_pca[:,5],timeSeries_pca[:,6])"
   ]
  },
  {
   "cell_type": "code",
   "execution_count": null,
   "metadata": {
    "collapsed": false
   },
   "outputs": [],
   "source": [
    "#draw some other components of the data. Feel free to explore\n",
    "<your code>"
   ]
  },
  {
   "cell_type": "markdown",
   "metadata": {},
   "source": [
    "#####QUEST:\n",
    "Try changing the period in the features extractor above. Try collecting features for several different periods together."
   ]
  },
  {
   "cell_type": "markdown",
   "metadata": {},
   "source": [
    "#Fourier features\n",
    "#####QUEST:\n",
    "Implement extract_features_fourier function below so that it computes the fourier transformation of data as features.\n",
    "The fourier transformation can be done via np.fft.fft function"
   ]
  },
  {
   "cell_type": "code",
   "execution_count": null,
   "metadata": {
    "collapsed": true
   },
   "outputs": [],
   "source": [
    "def extract_features_fourier(impulses):\n",
    "    features = []\n",
    "    \n",
    "    <your code here>\n",
    "    \n",
    "    return features\n",
    "#numpy.fft.fft"
   ]
  },
  {
   "cell_type": "code",
   "execution_count": null,
   "metadata": {
    "collapsed": true
   },
   "outputs": [],
   "source": [
    "#extract features\n",
    "timeSeries_features_fft = np.array(map(extract_features_fourier, timeSeries)).astype(float)\n",
    "#train PCA\n",
    "pca_fft = PCA().fit(timeSeries_features_fft)\n",
    "#transform data\n",
    "timeSeries_pca_fft = pca_fft.transform(timeSeries_features_fft)\n"
   ]
  },
  {
   "cell_type": "code",
   "execution_count": null,
   "metadata": {
    "collapsed": true
   },
   "outputs": [],
   "source": [
    "#Draw the components\n",
    "for i in range(len(pca_fft.components_)):\n",
    "    plt.plot(pca_fft.components_[i])\n",
    "    plt.show()"
   ]
  },
  {
   "cell_type": "code",
   "execution_count": null,
   "metadata": {
    "collapsed": true
   },
   "outputs": [],
   "source": [
    "#Draw the component activity maps\n",
    "for i in range(1,20):\n",
    "    draw_component(timeSeries_pca_fft[:,i])\n"
   ]
  },
  {
   "cell_type": "markdown",
   "metadata": {
    "collapsed": true
   },
   "source": [
    "#Let us invent...\n",
    "#####Boss fight:\n",
    "It is now your turn to attemt features of your own invention.\n",
    "Here are some suggestions:\n",
    "* a) Try different intervals (why must they be 20 after all?)\n",
    "* b) Sum with different periods (instead of different starting points)\n",
    "* c) Fourier transformation (np.fft, google me)\n",
    "* d) combine different approaches\n",
    "* e) look what your neighbor's doing and add it to (d)\n",
    "\n",
    " 1) think it;  \n",
    " 2) code it;   \n",
    " 3) try it;         \n",
    " 4) boast about it;        \n",
    " 5) go to step 1; "
   ]
  },
  {
   "cell_type": "code",
   "execution_count": null,
   "metadata": {
    "collapsed": false
   },
   "outputs": [],
   "source": [
    "def extract_features2(impulses):\n",
    "    features = []\n",
    "    \n",
    "    <your imagination goes here>\n",
    "    \n",
    "    #OLD ONE: sum every 20-th element for each of 20 features (with different starting positions)\n",
    "    #for i in range(0,20,2):\n",
    "    #    features.append(np.sum(impulses[i::20]))\n",
    "\n",
    "    \n",
    "    return features"
   ]
  },
  {
   "cell_type": "code",
   "execution_count": null,
   "metadata": {
    "collapsed": false
   },
   "outputs": [],
   "source": [
    "#extract features\n",
    "timeSeries_features2 = np.array(map(extract_features2, timeSeries)).astype(float)\n",
    "#train PCA\n",
    "pca2 = PCA().fit(timeSeries_features2)\n",
    "#transform data\n",
    "timeSeries_pca2 = pca2.transform(timeSeries_features2)\n"
   ]
  },
  {
   "cell_type": "code",
   "execution_count": null,
   "metadata": {
    "collapsed": false
   },
   "outputs": [],
   "source": [
    "#explore them!\n",
    "draw_two_components(timeSeries_pca2[:,5],timeSeries_pca2[:,6])"
   ]
  },
  {
   "cell_type": "code",
   "execution_count": null,
   "metadata": {
    "collapsed": true
   },
   "outputs": [],
   "source": []
  },
  {
   "cell_type": "code",
   "execution_count": null,
   "metadata": {
    "collapsed": true
   },
   "outputs": [],
   "source": [
    "#MOAR BRAINZ!!1\n"
   ]
  }
 ],
 "metadata": {
  "kernelspec": {
   "display_name": "Python 2",
   "language": "python",
   "name": "python2"
  },
  "language_info": {
   "codemirror_mode": {
    "name": "ipython",
    "version": 2
   },
   "file_extension": ".py",
   "mimetype": "text/x-python",
   "name": "python",
   "nbconvert_exporter": "python",
   "pygments_lexer": "ipython2",
   "version": "2.7.6"
  }
 },
 "nbformat": 4,
 "nbformat_minor": 0
}
