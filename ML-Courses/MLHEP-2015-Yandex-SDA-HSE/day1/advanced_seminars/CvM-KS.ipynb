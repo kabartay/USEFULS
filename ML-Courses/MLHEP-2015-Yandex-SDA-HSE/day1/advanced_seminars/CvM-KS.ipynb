{
 "cells": [
  {
   "cell_type": "markdown",
   "metadata": {},
   "source": [
    "## Import utils"
   ]
  },
  {
   "cell_type": "code",
   "execution_count": 1,
   "metadata": {
    "collapsed": true
   },
   "outputs": [],
   "source": [
    "%run utils.py"
   ]
  },
  {
   "cell_type": "code",
   "execution_count": 2,
   "metadata": {
    "collapsed": false
   },
   "outputs": [
    {
     "name": "stdout",
     "output_type": "stream",
     "text": [
      "Populating the interactive namespace from numpy and matplotlib\n"
     ]
    }
   ],
   "source": [
    "%pylab inline"
   ]
  },
  {
   "cell_type": "code",
   "execution_count": 3,
   "metadata": {
    "collapsed": true
   },
   "outputs": [],
   "source": [
    "import numpy"
   ]
  },
  {
   "cell_type": "code",
   "execution_count": 4,
   "metadata": {
    "collapsed": true
   },
   "outputs": [],
   "source": [
    "# parameters for histograms\n",
    "hist_kw = dict(bins=100, normed=True, alpha=0.5)"
   ]
  },
  {
   "cell_type": "markdown",
   "metadata": {},
   "source": [
    "# KS investigation"
   ]
  },
  {
   "cell_type": "markdown",
   "metadata": {},
   "source": [
    "## KS metric pdf generation\n",
    "\n",
    "###TODO\n",
    "Build the KS-metric pdf by generating a pair of distributions from `numpy.random.random` many times and using `ks_2samp` function to compute KS "
   ]
  },
  {
   "cell_type": "code",
   "execution_count": 5,
   "metadata": {
    "collapsed": true
   },
   "outputs": [],
   "source": [
    "from scipy.stats import ks_2samp\n",
    "n1 = 10000\n",
    "n2 = 20000\n",
    "\n",
    "# finish the function\n",
    "def generate_ks_pdf(n1, n2, points=30000):\n",
    "    ks = []\n",
    "    # for each point \n",
    "    for step in range(points):\n",
    "        # generate pdf1 and pdf2 from the same distributions\n",
    "        pdf1 = numpy.random.random(size=n1)\n",
    "        pdf2 = numpy.random.random(size=n2)\n",
    "        # compute ks for generated pdfs\n",
    "        ks.append(ks_2samp(pdf1, pdf2)[0])\n",
    "    return numpy.array(ks)"
   ]
  },
  {
   "cell_type": "code",
   "execution_count": 6,
   "metadata": {
    "collapsed": true
   },
   "outputs": [],
   "source": [
    "ks_pdf = generate_ks_pdf(n1, n2)"
   ]
  },
  {
   "cell_type": "code",
   "execution_count": 7,
   "metadata": {
    "collapsed": false
   },
   "outputs": [
    {
     "data": {
      "image/png": "[encoded data removed]",
      "text/plain": [
       "<matplotlib.figure.Figure at 0x111ef4310>"
      ]
     },
     "metadata": {},
     "output_type": "display_data"
    }
   ],
   "source": [
    "hist(ks_pdf, **hist_kw)\n",
    "pass"
   ]
  },
  {
   "cell_type": "markdown",
   "metadata": {},
   "source": [
    "## Assumption:\n",
    "\n",
    "KS metric pdf will be the same, no matter which distribution we used to generate samples.\n",
    "To be more precise, samples may be generated from any continuous distribution, not only uniform."
   ]
  },
  {
   "cell_type": "markdown",
   "metadata": {},
   "source": [
    "## Check the assumption!\n",
    "\n",
    "\n",
    "###TODO:\n",
    "* Generate two samples from a normal distribution and get KS metric pdf in this case. \n",
    "* Are two KS metric distributions similar (the first $PDF_{metric,u}$ is received by generating two samples from uniform pdf and the second $PDF_{metric,n}$ is received by generating two samples from normal pdf)?"
   ]
  },
  {
   "cell_type": "code",
   "execution_count": 8,
   "metadata": {
    "collapsed": true
   },
   "outputs": [],
   "source": [
    "def generate_ks_pdf_normal(n1, n2, points=30000):\n",
    "    ks = []\n",
    "    # for each point \n",
    "    for step in range(points):\n",
    "        # generate pdf1 and pdf2 from the same distributions\n",
    "        pdf1 = numpy.random.normal(size=n1, loc=10, scale=5)\n",
    "        pdf2 = numpy.random.normal(size=n2, loc=10, scale=5)\n",
    "        # compute ks for generated pdfs\n",
    "        ks.append(ks_2samp(pdf1, pdf2)[0])\n",
    "    return numpy.array(ks)"
   ]
  },
  {
   "cell_type": "code",
   "execution_count": 9,
   "metadata": {
    "collapsed": true
   },
   "outputs": [],
   "source": [
    "ks_pdf_normal = generate_ks_pdf_normal(n1, n2)"
   ]
  },
  {
   "cell_type": "code",
   "execution_count": 10,
   "metadata": {
    "collapsed": false
   },
   "outputs": [
    {
     "data": {
      "image/png": "[encoded data removed]",
      "text/plain": [
       "<matplotlib.figure.Figure at 0x11354dd90>"
      ]
     },
     "metadata": {},
     "output_type": "display_data"
    }
   ],
   "source": [
    "hist(ks_pdf_normal, **hist_kw)\n",
    "pass"
   ]
  },
  {
   "cell_type": "code",
   "execution_count": 11,
   "metadata": {
    "collapsed": false
   },
   "outputs": [
    {
     "data": {
      "image/png": "[encoded data removed]",
      "text/plain": [
       "<matplotlib.figure.Figure at 0x1138f46d0>"
      ]
     },
     "metadata": {},
     "output_type": "display_data"
    }
   ],
   "source": [
    "hist(ks_pdf, **hist_kw)\n",
    "hist(ks_pdf_normal, **hist_kw)\n",
    "pass"
   ]
  },
  {
   "cell_type": "markdown",
   "metadata": {},
   "source": [
    "## Do you check these two KS metric distributions by eye? \n",
    "\n",
    "To check if $PDF_{metric,u}$ and $PDF_{metric,n}$ are similar compute KS metric between them!"
   ]
  },
  {
   "cell_type": "code",
   "execution_count": 12,
   "metadata": {
    "collapsed": false
   },
   "outputs": [
    {
     "data": {
      "text/plain": [
       "0.005933333333333346"
      ]
     },
     "execution_count": 12,
     "metadata": {},
     "output_type": "execute_result"
    }
   ],
   "source": [
    "ks_2samp(ks_pdf, ks_pdf_normal)[0]"
   ]
  },
  {
   "cell_type": "markdown",
   "metadata": {},
   "source": [
    "\n",
    "## How can one understand what this metric value means?"
   ]
  },
  {
   "cell_type": "markdown",
   "metadata": {},
   "source": [
    "two options here\n",
    "\n",
    "### 1. KS test:\n",
    "\n",
    "This is Kolmogorov-Smirnov statistic to test a hypothesis that two samples come from the same distibution.\n",
    "\n",
    "Statistic:\n",
    "\n",
    "$q= \\sqrt{\\frac{n*m}{n + m}}KS_{nm}$\n",
    "\n",
    "$K_{\\alpha} \\sim \\sqrt{-0.5 * \\ln{\\frac{1 - \\alpha}{2}}}$, \n",
    "\n",
    "where $\\alpha$ - statistical significance, $KS_{nm}$ - Kolmogorov-Smirnov metric.\n",
    "\n",
    "If $q > K_{\\alpha}$ then hypothesis (that both samples from the same distribution) will be rejected.\n",
    "\n",
    "### 2. P-value calculated using the KS metric pdf:\n",
    "\n",
    "You can calculate p-value using generated KS pdf to test the hypotheses"
   ]
  },
  {
   "cell_type": "markdown",
   "metadata": {},
   "source": [
    "### TODO:\n",
    "Check that $PDF_{metric,u}$ and $PDF_{metric,n}$ come from the same distribution (It will mean that our assumption holds).\n",
    "\n",
    "Use the p-value returned by `ks_2samp` to understand KS-metric value between $PDF_{metric,u}$ and $PDF_{metric,n}$ "
   ]
  },
  {
   "cell_type": "code",
   "execution_count": 13,
   "metadata": {
    "collapsed": false
   },
   "outputs": [
    {
     "data": {
      "text/plain": [
       "(0.005933333333333346, 0.6652714125281175)"
      ]
     },
     "execution_count": 13,
     "metadata": {},
     "output_type": "execute_result"
    }
   ],
   "source": [
    "ks_2samp(ks_pdf, ks_pdf_normal)"
   ]
  },
  {
   "cell_type": "markdown",
   "metadata": {},
   "source": [
    "if p-value is not small we can't reject hypothesis (so consider them coming from the same distribution)"
   ]
  },
  {
   "cell_type": "markdown",
   "metadata": {},
   "source": [
    "## Сan you now answer if the KS metric pdf depends on the initial continuous distribution, from which two samples are generated? Can you prove this behaviour?"
   ]
  },
  {
   "cell_type": "markdown",
   "metadata": {},
   "source": [
    "If you remember how the KS metric is calculated using the roc curve you will understand that the KS metric use only the permutation of the sample1 in the sample2, $ks=\\max{|fpr - tpr|}$. Thus, the initial disribution will be transformed into a zeros-ones sequence, where zero means an element came from the sample1 and one - the sample2. If the samples were generated from the same distibution then probability of such zeros-ones sequence will be $\\frac{(n1 + n2)!}{n1!n2!}$ and it doesn't depend on the initial distribution. Thus, the initial distribution doesn't matter and we can generate the KS pdf using the uniform distribution."
   ]
  },
  {
   "cell_type": "markdown",
   "metadata": {},
   "source": [
    "###TODO:\n",
    "\n",
    "Above you checked the similarity of $PDF_{metric,u}$ and $PDF_{metric,n}$ using KS statistic. \n",
    "\n",
    "Now try option 2 to check this: generate KS metric distribution $PDF_{KS}$ for samples $PDF_{metric,u}$ and $PDF_{metric,n}$ and compute p-value of their distance using $PDF_{KS}.$"
   ]
  },
  {
   "cell_type": "code",
   "execution_count": 14,
   "metadata": {
    "collapsed": true
   },
   "outputs": [],
   "source": [
    "test_ks_pdf = generate_ks_pdf(len(ks_pdf), len(ks_pdf_normal))"
   ]
  },
  {
   "cell_type": "code",
   "execution_count": 15,
   "metadata": {
    "collapsed": false
   },
   "outputs": [
    {
     "data": {
      "text/plain": [
       "0.65823333333333334"
      ]
     },
     "execution_count": 15,
     "metadata": {},
     "output_type": "execute_result"
    }
   ],
   "source": [
    "# compute p-value using the KS pdf \n",
    "numpy.mean(test_ks_pdf > ks_2samp(ks_pdf, ks_pdf_normal)[0])"
   ]
  },
  {
   "cell_type": "markdown",
   "metadata": {},
   "source": [
    "**Note:** two p-values, obtained by two methods (KS statistic, KS metric distibution) are very similar."
   ]
  },
  {
   "cell_type": "markdown",
   "metadata": {},
   "source": [
    "## Example "
   ]
  },
  {
   "cell_type": "markdown",
   "metadata": {},
   "source": [
    "Two similar normal distributions are generated. By eye they are very similar, but the KS test says that hypothesis (the same distribution) should be rejected."
   ]
  },
  {
   "cell_type": "code",
   "execution_count": 16,
   "metadata": {
    "collapsed": false
   },
   "outputs": [
    {
     "data": {
      "image/png": "[encoded data removed]",
      "text/plain": [
       "<matplotlib.figure.Figure at 0x113b3db10>"
      ]
     },
     "metadata": {},
     "output_type": "display_data"
    }
   ],
   "source": [
    "pdf1_g = numpy.random.normal(loc=10, scale=5, size=n1)\n",
    "pdf2_g = numpy.random.normal(loc=10.2, scale=5.3, size=n2)\n",
    "hist(pdf1_g, **hist_kw)\n",
    "hist(pdf2_g, **hist_kw)\n",
    "pass"
   ]
  },
  {
   "cell_type": "code",
   "execution_count": 17,
   "metadata": {
    "collapsed": false
   },
   "outputs": [
    {
     "data": {
      "text/plain": [
       "(0.02354999999999996, 0.0012022637173668765)"
      ]
     },
     "execution_count": 17,
     "metadata": {},
     "output_type": "execute_result"
    }
   ],
   "source": [
    "ks_2samp(pdf1_g, pdf2_g)"
   ]
  },
  {
   "cell_type": "code",
   "execution_count": 18,
   "metadata": {
    "collapsed": false
   },
   "outputs": [
    {
     "data": {
      "text/plain": [
       "0.0013666666666666666"
      ]
     },
     "execution_count": 18,
     "metadata": {},
     "output_type": "execute_result"
    }
   ],
   "source": [
    "numpy.mean(ks_pdf > ks_2samp(pdf1_g, pdf2_g)[0])"
   ]
  },
  {
   "cell_type": "markdown",
   "metadata": {},
   "source": [
    "p-value < 0.005, thus the KS test says that samples were generated from different distributions. "
   ]
  },
  {
   "cell_type": "markdown",
   "metadata": {},
   "source": [
    "# CvM investigation"
   ]
  },
  {
   "cell_type": "markdown",
   "metadata": {},
   "source": [
    "The mass and several predictions are generated to see the CvM metric:\n",
    "\n",
    "* mass from 1000 * exp(1), range=(0, 4000);\n",
    "* prediction_sin = sin(mass / 1000.)\n",
    "* prediction_rand = numpy.random.random\n",
    "* prediction_cut = zeros outside [1000, 1500] mass region and ones in this region"
   ]
  },
  {
   "cell_type": "code",
   "execution_count": 19,
   "metadata": {
    "collapsed": false
   },
   "outputs": [],
   "source": [
    "mass = 1000 * numpy.random.exponential(1, size=10000)\n",
    "mass = mass[mass < 4000]\n",
    "prediction_cut = numpy.zeros(len(mass))\n",
    "prediction_cut[(mass > 1000) & (mass < 1500)] = 1\n",
    "prediction_rand = numpy.random.random(len(mass))\n",
    "prediction_sin = numpy.sin(mass / 1000.)"
   ]
  },
  {
   "cell_type": "markdown",
   "metadata": {},
   "source": [
    "## Plot:\n",
    "* mass histogram\n",
    "* mass histogram for each prediction selection > 0.5"
   ]
  },
  {
   "cell_type": "code",
   "execution_count": 20,
   "metadata": {
    "collapsed": false
   },
   "outputs": [
    {
     "data": {
      "image/png": "[encoded data removed]",
      "text/plain": [
       "<matplotlib.figure.Figure at 0x113e598d0>"
      ]
     },
     "metadata": {},
     "output_type": "display_data"
    }
   ],
   "source": [
    "hist(mass, **hist_kw)\n",
    "pass"
   ]
  },
  {
   "cell_type": "code",
   "execution_count": 21,
   "metadata": {
    "collapsed": false
   },
   "outputs": [
    {
     "data": {
      "image/png": "[encoded data removed]",
      "text/plain": [
       "<matplotlib.figure.Figure at 0x1136c1b10>"
      ]
     },
     "metadata": {},
     "output_type": "display_data"
    }
   ],
   "source": [
    "hist(mass[prediction_cut > 0.5], **hist_kw)\n",
    "pass"
   ]
  },
  {
   "cell_type": "code",
   "execution_count": 22,
   "metadata": {
    "collapsed": false
   },
   "outputs": [
    {
     "data": {
      "image/png": "[encoded data removed]",
      "text/plain": [
       "<matplotlib.figure.Figure at 0x113a8c310>"
      ]
     },
     "metadata": {},
     "output_type": "display_data"
    }
   ],
   "source": [
    "hist(mass[prediction_rand > 0.5], **hist_kw)\n",
    "pass"
   ]
  },
  {
   "cell_type": "code",
   "execution_count": 23,
   "metadata": {
    "collapsed": false
   },
   "outputs": [
    {
     "data": {
      "image/png": "[encoded data removed]",
      "text/plain": [
       "<matplotlib.figure.Figure at 0x113ba5150>"
      ]
     },
     "metadata": {},
     "output_type": "display_data"
    }
   ],
   "source": [
    "hist(mass[prediction_sin > 0.5], **hist_kw)\n",
    "pass"
   ]
  },
  {
   "cell_type": "markdown",
   "metadata": {},
   "source": [
    "### For which prediction does selection change initial pdf? Check your thoughts using CvM metric.\n",
    "\n",
    "#### What predictions always must be uncorrelated with the mass? \n",
    "\n",
    "CvM metric can be calculated using:\n",
    "\n",
    "* `from utils import compute_cvm`\n",
    "* `compute_cvm(predictions, mass)`\n",
    "\n",
    "For CvM metric we haven't statistic like KS statistic to test hypothesis, that is why only pdf generation can help."
   ]
  },
  {
   "cell_type": "code",
   "execution_count": 24,
   "metadata": {
    "collapsed": false
   },
   "outputs": [
    {
     "data": {
      "text/html": [
       "<div style=\"max-height:1000px;max-width:1500px;overflow:auto;\">\n",
       "<table border=\"1\" class=\"dataframe\">\n",
       "  <thead>\n",
       "    <tr style=\"text-align: right;\">\n",
       "      <th></th>\n",
       "      <th>cvm</th>\n",
       "      <th>name</th>\n",
       "    </tr>\n",
       "  </thead>\n",
       "  <tbody>\n",
       "    <tr>\n",
       "      <th>0</th>\n",
       "      <td> 0.000899</td>\n",
       "      <td> random</td>\n",
       "    </tr>\n",
       "    <tr>\n",
       "      <th>1</th>\n",
       "      <td> 0.157148</td>\n",
       "      <td>    sin</td>\n",
       "    </tr>\n",
       "    <tr>\n",
       "      <th>2</th>\n",
       "      <td> 0.149550</td>\n",
       "      <td>    cut</td>\n",
       "    </tr>\n",
       "  </tbody>\n",
       "</table>\n",
       "</div>"
      ],
      "text/plain": [
       "        cvm    name\n",
       "0  0.000899  random\n",
       "1  0.157148     sin\n",
       "2  0.149550     cut"
      ]
     },
     "execution_count": 24,
     "metadata": {},
     "output_type": "execute_result"
    }
   ],
   "source": [
    "from utils import compute_cvm\n",
    "import pandas\n",
    "cvms = [compute_cvm(prediction_rand, mass), compute_cvm(prediction_sin, mass), compute_cvm(prediction_cut, mass)]\n",
    "df = pandas.DataFrame({'name': ['random', 'sin', 'cut'], 'cvm': cvms}) \n",
    "df"
   ]
  },
  {
   "cell_type": "markdown",
   "metadata": {},
   "source": [
    "Generate CvM metric distribution using appropriate distribution for predicitons generation.\n",
    "\n",
    "**Random predictions always are uncorellated with the mass**"
   ]
  },
  {
   "cell_type": "code",
   "execution_count": 25,
   "metadata": {
    "collapsed": true
   },
   "outputs": [],
   "source": [
    "def generate_cvm_pdf(mass, points=5000):\n",
    "    cvm = []\n",
    "    # for each point \n",
    "    for step in range(points):\n",
    "        # generate uncorellated predictions for mass\n",
    "        probs = numpy.random.random(size=len(mass))\n",
    "        # compute cvm for generated prediction and mass\n",
    "        cvm.append(compute_cvm(probs, mass))\n",
    "    return numpy.array(cvm)"
   ]
  },
  {
   "cell_type": "code",
   "execution_count": 26,
   "metadata": {
    "collapsed": false
   },
   "outputs": [],
   "source": [
    "cvm_pdf = generate_cvm_pdf(mass)"
   ]
  },
  {
   "cell_type": "code",
   "execution_count": 27,
   "metadata": {
    "collapsed": false
   },
   "outputs": [
    {
     "data": {
      "image/png": "[encoded data removed]",
      "text/plain": [
       "<matplotlib.figure.Figure at 0x1133d41d0>"
      ]
     },
     "metadata": {},
     "output_type": "display_data"
    }
   ],
   "source": [
    "hist(cvm_pdf, **hist_kw)\n",
    "pass"
   ]
  },
  {
   "cell_type": "markdown",
   "metadata": {},
   "source": [
    "Compute p-value to check correlation"
   ]
  },
  {
   "cell_type": "code",
   "execution_count": 28,
   "metadata": {
    "collapsed": false
   },
   "outputs": [
    {
     "name": "stdout",
     "output_type": "stream",
     "text": [
      "random 0.1714\n",
      "sin 0.0\n",
      "cut 0.0\n"
     ]
    }
   ],
   "source": [
    "for _, row in df.iterrows():\n",
    "    print row['name'], numpy.mean(cvm_pdf > row['cvm'])"
   ]
  },
  {
   "cell_type": "markdown",
   "metadata": {},
   "source": [
    "# Classifiers training:\n",
    "## check influence of the correlation restriction on the quality"
   ]
  },
  {
   "cell_type": "markdown",
   "metadata": {},
   "source": [
    "Download \n",
    "\n",
    "* `training.csv`, \n",
    "* `check_correlation.csv`, \n",
    "\n",
    "to the folder `datasets/` from https://www.kaggle.com/c/flavours-of-physics/data"
   ]
  },
  {
   "cell_type": "code",
   "execution_count": 29,
   "metadata": {
    "collapsed": true
   },
   "outputs": [],
   "source": [
    "data = pandas.read_csv('datasets/training.csv')\n",
    "data_correlation = pandas.read_csv('datasets/check_correlation.csv')"
   ]
  },
  {
   "cell_type": "code",
   "execution_count": 30,
   "metadata": {
    "collapsed": false
   },
   "outputs": [
    {
     "data": {
      "text/html": [
       "<div style=\"max-height:1000px;max-width:1500px;overflow:auto;\">\n",
       "<table border=\"1\" class=\"dataframe\">\n",
       "  <thead>\n",
       "    <tr style=\"text-align: right;\">\n",
       "      <th></th>\n",
       "      <th>id</th>\n",
       "      <th>LifeTime</th>\n",
       "      <th>dira</th>\n",
       "      <th>FlightDistance</th>\n",
       "      <th>FlightDistanceError</th>\n",
       "      <th>IP</th>\n",
       "      <th>IPSig</th>\n",
       "      <th>VertexChi2</th>\n",
       "      <th>pt</th>\n",
       "      <th>DOCAone</th>\n",
       "      <th>...</th>\n",
       "      <th>p1_p</th>\n",
       "      <th>p2_p</th>\n",
       "      <th>p0_eta</th>\n",
       "      <th>p1_eta</th>\n",
       "      <th>p2_eta</th>\n",
       "      <th>SPDhits</th>\n",
       "      <th>production</th>\n",
       "      <th>signal</th>\n",
       "      <th>mass</th>\n",
       "      <th>min_ANNmuon</th>\n",
       "    </tr>\n",
       "  </thead>\n",
       "  <tbody>\n",
       "    <tr>\n",
       "      <th>0</th>\n",
       "      <td> 18453471</td>\n",
       "      <td> 0.001578</td>\n",
       "      <td> 0.999999</td>\n",
       "      <td> 14.033335</td>\n",
       "      <td> 0.681401</td>\n",
       "      <td> 0.016039</td>\n",
       "      <td> 0.451886</td>\n",
       "      <td>  1.900433</td>\n",
       "      <td> 1482.037476</td>\n",
       "      <td> 0.066667</td>\n",
       "      <td>...</td>\n",
       "      <td> 12290.760742</td>\n",
       "      <td> 39264.398438</td>\n",
       "      <td> 3.076006</td>\n",
       "      <td> 4.003800</td>\n",
       "      <td> 4.031514</td>\n",
       "      <td> 458</td>\n",
       "      <td>-99</td>\n",
       "      <td> 0</td>\n",
       "      <td> 1866.300049</td>\n",
       "      <td> 0.277559</td>\n",
       "    </tr>\n",
       "    <tr>\n",
       "      <th>1</th>\n",
       "      <td>  5364094</td>\n",
       "      <td> 0.000988</td>\n",
       "      <td> 0.999705</td>\n",
       "      <td>  5.536157</td>\n",
       "      <td> 0.302341</td>\n",
       "      <td> 0.142163</td>\n",
       "      <td> 9.564503</td>\n",
       "      <td>  0.865666</td>\n",
       "      <td> 3050.720703</td>\n",
       "      <td> 0.024022</td>\n",
       "      <td>...</td>\n",
       "      <td> 16562.667969</td>\n",
       "      <td>  7341.257812</td>\n",
       "      <td> 3.228553</td>\n",
       "      <td> 2.786543</td>\n",
       "      <td> 2.975564</td>\n",
       "      <td> 406</td>\n",
       "      <td>-99</td>\n",
       "      <td> 0</td>\n",
       "      <td> 1727.095947</td>\n",
       "      <td> 0.225924</td>\n",
       "    </tr>\n",
       "    <tr>\n",
       "      <th>2</th>\n",
       "      <td> 11130990</td>\n",
       "      <td> 0.000877</td>\n",
       "      <td> 0.999984</td>\n",
       "      <td>  6.117302</td>\n",
       "      <td> 0.276463</td>\n",
       "      <td> 0.034746</td>\n",
       "      <td> 1.970751</td>\n",
       "      <td> 10.975849</td>\n",
       "      <td> 3895.908691</td>\n",
       "      <td> 0.055044</td>\n",
       "      <td>...</td>\n",
       "      <td> 22695.388672</td>\n",
       "      <td> 10225.309570</td>\n",
       "      <td> 3.536903</td>\n",
       "      <td> 2.865686</td>\n",
       "      <td> 3.052810</td>\n",
       "      <td> 196</td>\n",
       "      <td>-99</td>\n",
       "      <td> 0</td>\n",
       "      <td> 1898.588013</td>\n",
       "      <td> 0.368630</td>\n",
       "    </tr>\n",
       "    <tr>\n",
       "      <th>3</th>\n",
       "      <td> 15173787</td>\n",
       "      <td> 0.000854</td>\n",
       "      <td> 0.999903</td>\n",
       "      <td>  5.228067</td>\n",
       "      <td> 0.220739</td>\n",
       "      <td> 0.076389</td>\n",
       "      <td> 4.271331</td>\n",
       "      <td>  3.276358</td>\n",
       "      <td> 4010.781738</td>\n",
       "      <td> 0.053779</td>\n",
       "      <td>...</td>\n",
       "      <td> 16909.515625</td>\n",
       "      <td>  9141.426758</td>\n",
       "      <td> 3.087461</td>\n",
       "      <td> 3.218034</td>\n",
       "      <td> 2.375592</td>\n",
       "      <td> 137</td>\n",
       "      <td>-99</td>\n",
       "      <td> 0</td>\n",
       "      <td> 1840.410034</td>\n",
       "      <td> 0.246045</td>\n",
       "    </tr>\n",
       "    <tr>\n",
       "      <th>4</th>\n",
       "      <td>  1102544</td>\n",
       "      <td> 0.001129</td>\n",
       "      <td> 0.999995</td>\n",
       "      <td> 39.069534</td>\n",
       "      <td> 1.898197</td>\n",
       "      <td> 0.120936</td>\n",
       "      <td> 4.984982</td>\n",
       "      <td>  0.468348</td>\n",
       "      <td> 4144.546875</td>\n",
       "      <td> 0.004491</td>\n",
       "      <td>...</td>\n",
       "      <td> 97612.804688</td>\n",
       "      <td> 47118.785156</td>\n",
       "      <td> 4.632295</td>\n",
       "      <td> 4.711155</td>\n",
       "      <td> 4.296878</td>\n",
       "      <td> 477</td>\n",
       "      <td>-99</td>\n",
       "      <td> 0</td>\n",
       "      <td> 1899.793945</td>\n",
       "      <td> 0.222060</td>\n",
       "    </tr>\n",
       "  </tbody>\n",
       "</table>\n",
       "<p>5 rows × 51 columns</p>\n",
       "</div>"
      ],
      "text/plain": [
       "         id  LifeTime      dira  FlightDistance  FlightDistanceError  \\\n",
       "0  18453471  0.001578  0.999999       14.033335             0.681401   \n",
       "1   5364094  0.000988  0.999705        5.536157             0.302341   \n",
       "2  11130990  0.000877  0.999984        6.117302             0.276463   \n",
       "3  15173787  0.000854  0.999903        5.228067             0.220739   \n",
       "4   1102544  0.001129  0.999995       39.069534             1.898197   \n",
       "\n",
       "         IP     IPSig  VertexChi2           pt   DOCAone    ...     \\\n",
       "0  0.016039  0.451886    1.900433  1482.037476  0.066667    ...      \n",
       "1  0.142163  9.564503    0.865666  3050.720703  0.024022    ...      \n",
       "2  0.034746  1.970751   10.975849  3895.908691  0.055044    ...      \n",
       "3  0.076389  4.271331    3.276358  4010.781738  0.053779    ...      \n",
       "4  0.120936  4.984982    0.468348  4144.546875  0.004491    ...      \n",
       "\n",
       "           p1_p          p2_p    p0_eta    p1_eta    p2_eta  SPDhits  \\\n",
       "0  12290.760742  39264.398438  3.076006  4.003800  4.031514      458   \n",
       "1  16562.667969   7341.257812  3.228553  2.786543  2.975564      406   \n",
       "2  22695.388672  10225.309570  3.536903  2.865686  3.052810      196   \n",
       "3  16909.515625   9141.426758  3.087461  3.218034  2.375592      137   \n",
       "4  97612.804688  47118.785156  4.632295  4.711155  4.296878      477   \n",
       "\n",
       "   production  signal         mass  min_ANNmuon  \n",
       "0         -99       0  1866.300049     0.277559  \n",
       "1         -99       0  1727.095947     0.225924  \n",
       "2         -99       0  1898.588013     0.368630  \n",
       "3         -99       0  1840.410034     0.246045  \n",
       "4         -99       0  1899.793945     0.222060  \n",
       "\n",
       "[5 rows x 51 columns]"
      ]
     },
     "execution_count": 30,
     "metadata": {},
     "output_type": "execute_result"
    }
   ],
   "source": [
    "data.head()"
   ]
  },
  {
   "cell_type": "code",
   "execution_count": 31,
   "metadata": {
    "collapsed": false
   },
   "outputs": [
    {
     "data": {
      "text/html": [
       "<div style=\"max-height:1000px;max-width:1500px;overflow:auto;\">\n",
       "<table border=\"1\" class=\"dataframe\">\n",
       "  <thead>\n",
       "    <tr style=\"text-align: right;\">\n",
       "      <th></th>\n",
       "      <th>id</th>\n",
       "      <th>LifeTime</th>\n",
       "      <th>dira</th>\n",
       "      <th>FlightDistance</th>\n",
       "      <th>FlightDistanceError</th>\n",
       "      <th>IP</th>\n",
       "      <th>IPSig</th>\n",
       "      <th>VertexChi2</th>\n",
       "      <th>pt</th>\n",
       "      <th>DOCAone</th>\n",
       "      <th>...</th>\n",
       "      <th>p1_pt</th>\n",
       "      <th>p2_pt</th>\n",
       "      <th>p0_p</th>\n",
       "      <th>p1_p</th>\n",
       "      <th>p2_p</th>\n",
       "      <th>p0_eta</th>\n",
       "      <th>p1_eta</th>\n",
       "      <th>p2_eta</th>\n",
       "      <th>SPDhits</th>\n",
       "      <th>mass</th>\n",
       "    </tr>\n",
       "  </thead>\n",
       "  <tbody>\n",
       "    <tr>\n",
       "      <th>0</th>\n",
       "      <td> 11120335</td>\n",
       "      <td> 0.000703</td>\n",
       "      <td> 0.999715</td>\n",
       "      <td>  2.927074</td>\n",
       "      <td> 0.214014</td>\n",
       "      <td> 0.081302</td>\n",
       "      <td>  4.259793</td>\n",
       "      <td> 1.066585</td>\n",
       "      <td> 3108.189941</td>\n",
       "      <td> 0.010767</td>\n",
       "      <td>...</td>\n",
       "      <td> 1294.450928</td>\n",
       "      <td> 1073.976440</td>\n",
       "      <td>  9274.671875</td>\n",
       "      <td>   7963.914062</td>\n",
       "      <td>  6712.897949</td>\n",
       "      <td> 2.783731</td>\n",
       "      <td> 2.503310</td>\n",
       "      <td> 2.519349</td>\n",
       "      <td> 280</td>\n",
       "      <td> 1723.887939</td>\n",
       "    </tr>\n",
       "    <tr>\n",
       "      <th>1</th>\n",
       "      <td> 11495369</td>\n",
       "      <td> 0.000601</td>\n",
       "      <td> 0.999950</td>\n",
       "      <td> 15.849142</td>\n",
       "      <td> 0.842973</td>\n",
       "      <td> 0.182213</td>\n",
       "      <td> 13.882857</td>\n",
       "      <td> 5.780046</td>\n",
       "      <td> 6858.264648</td>\n",
       "      <td> 0.007574</td>\n",
       "      <td>...</td>\n",
       "      <td> 3981.284912</td>\n",
       "      <td> 1859.680542</td>\n",
       "      <td> 22844.791016</td>\n",
       "      <td> 109955.101562</td>\n",
       "      <td> 37051.800781</td>\n",
       "      <td> 3.660059</td>\n",
       "      <td> 4.011287</td>\n",
       "      <td> 3.684429</td>\n",
       "      <td> 386</td>\n",
       "      <td> 1926.284058</td>\n",
       "    </tr>\n",
       "    <tr>\n",
       "      <th>2</th>\n",
       "      <td>  7098902</td>\n",
       "      <td> 0.002009</td>\n",
       "      <td> 0.999984</td>\n",
       "      <td> 43.358494</td>\n",
       "      <td> 1.323199</td>\n",
       "      <td> 0.200158</td>\n",
       "      <td> 12.870687</td>\n",
       "      <td> 3.460782</td>\n",
       "      <td> 3604.347412</td>\n",
       "      <td> 0.052849</td>\n",
       "      <td>...</td>\n",
       "      <td> 2564.430420</td>\n",
       "      <td>  354.095032</td>\n",
       "      <td> 45214.070312</td>\n",
       "      <td>  77265.429688</td>\n",
       "      <td> 12087.007812</td>\n",
       "      <td> 4.458619</td>\n",
       "      <td> 4.098382</td>\n",
       "      <td> 4.223254</td>\n",
       "      <td> 433</td>\n",
       "      <td> 1830.873047</td>\n",
       "    </tr>\n",
       "    <tr>\n",
       "      <th>3</th>\n",
       "      <td>  8103692</td>\n",
       "      <td> 0.001268</td>\n",
       "      <td> 0.999550</td>\n",
       "      <td>  6.910733</td>\n",
       "      <td> 0.198652</td>\n",
       "      <td> 0.167730</td>\n",
       "      <td>  8.559438</td>\n",
       "      <td> 7.676139</td>\n",
       "      <td> 3240.960449</td>\n",
       "      <td> 0.101368</td>\n",
       "      <td>...</td>\n",
       "      <td> 1178.332031</td>\n",
       "      <td> 1285.701660</td>\n",
       "      <td> 11245.551758</td>\n",
       "      <td>   6770.969238</td>\n",
       "      <td> 17003.119141</td>\n",
       "      <td> 3.060873</td>\n",
       "      <td> 2.434033</td>\n",
       "      <td> 3.273807</td>\n",
       "      <td> 245</td>\n",
       "      <td> 1909.119019</td>\n",
       "    </tr>\n",
       "    <tr>\n",
       "      <th>4</th>\n",
       "      <td> 10160864</td>\n",
       "      <td> 0.001937</td>\n",
       "      <td> 0.999996</td>\n",
       "      <td> 36.135208</td>\n",
       "      <td> 0.508036</td>\n",
       "      <td> 0.097170</td>\n",
       "      <td>  9.295684</td>\n",
       "      <td> 0.426340</td>\n",
       "      <td> 6448.445312</td>\n",
       "      <td> 0.007005</td>\n",
       "      <td>...</td>\n",
       "      <td> 3140.512207</td>\n",
       "      <td>  385.343475</td>\n",
       "      <td> 48171.457031</td>\n",
       "      <td>  43973.835938</td>\n",
       "      <td>  7368.522949</td>\n",
       "      <td> 3.441606</td>\n",
       "      <td> 3.331079</td>\n",
       "      <td> 3.643300</td>\n",
       "      <td> 489</td>\n",
       "      <td> 1600.925049</td>\n",
       "    </tr>\n",
       "  </tbody>\n",
       "</table>\n",
       "<p>5 rows × 48 columns</p>\n",
       "</div>"
      ],
      "text/plain": [
       "         id  LifeTime      dira  FlightDistance  FlightDistanceError  \\\n",
       "0  11120335  0.000703  0.999715        2.927074             0.214014   \n",
       "1  11495369  0.000601  0.999950       15.849142             0.842973   \n",
       "2   7098902  0.002009  0.999984       43.358494             1.323199   \n",
       "3   8103692  0.001268  0.999550        6.910733             0.198652   \n",
       "4  10160864  0.001937  0.999996       36.135208             0.508036   \n",
       "\n",
       "         IP      IPSig  VertexChi2           pt   DOCAone    ...     \\\n",
       "0  0.081302   4.259793    1.066585  3108.189941  0.010767    ...      \n",
       "1  0.182213  13.882857    5.780046  6858.264648  0.007574    ...      \n",
       "2  0.200158  12.870687    3.460782  3604.347412  0.052849    ...      \n",
       "3  0.167730   8.559438    7.676139  3240.960449  0.101368    ...      \n",
       "4  0.097170   9.295684    0.426340  6448.445312  0.007005    ...      \n",
       "\n",
       "         p1_pt        p2_pt          p0_p           p1_p          p2_p  \\\n",
       "0  1294.450928  1073.976440   9274.671875    7963.914062   6712.897949   \n",
       "1  3981.284912  1859.680542  22844.791016  109955.101562  37051.800781   \n",
       "2  2564.430420   354.095032  45214.070312   77265.429688  12087.007812   \n",
       "3  1178.332031  1285.701660  11245.551758    6770.969238  17003.119141   \n",
       "4  3140.512207   385.343475  48171.457031   43973.835938   7368.522949   \n",
       "\n",
       "     p0_eta    p1_eta    p2_eta  SPDhits         mass  \n",
       "0  2.783731  2.503310  2.519349      280  1723.887939  \n",
       "1  3.660059  4.011287  3.684429      386  1926.284058  \n",
       "2  4.458619  4.098382  4.223254      433  1830.873047  \n",
       "3  3.060873  2.434033  3.273807      245  1909.119019  \n",
       "4  3.441606  3.331079  3.643300      489  1600.925049  \n",
       "\n",
       "[5 rows x 48 columns]"
      ]
     },
     "execution_count": 31,
     "metadata": {},
     "output_type": "execute_result"
    }
   ],
   "source": [
    "data_correlation.head()"
   ]
  },
  {
   "cell_type": "code",
   "execution_count": 32,
   "metadata": {
    "collapsed": true
   },
   "outputs": [],
   "source": [
    "train_features = list(set(data_correlation.columns) - {'id'})\n",
    "train_features_wo_mass = list(set(data_correlation.columns) - {'id', 'mass'})"
   ]
  },
  {
   "cell_type": "code",
   "execution_count": 33,
   "metadata": {
    "collapsed": false
   },
   "outputs": [
    {
     "data": {
      "text/plain": [
       "<matplotlib.legend.Legend at 0x11355ad50>"
      ]
     },
     "execution_count": 33,
     "metadata": {},
     "output_type": "execute_result"
    },
    {
     "data": {
      "image/png": "[encoded data removed]",
      "text/plain": [
       "<matplotlib.figure.Figure at 0x110230d50>"
      ]
     },
     "metadata": {},
     "output_type": "display_data"
    }
   ],
   "source": [
    "hist(data[data.signal == 1]['mass'].values, label='signal MC', **hist_kw)\n",
    "hist(data[data.signal == 0]['mass'].values, label='bck real', **hist_kw)\n",
    "xlim(1600, 1950)\n",
    "legend()"
   ]
  },
  {
   "cell_type": "code",
   "execution_count": 34,
   "metadata": {
    "collapsed": false
   },
   "outputs": [
    {
     "data": {
      "text/plain": [
       "<matplotlib.legend.Legend at 0x113026e50>"
      ]
     },
     "execution_count": 34,
     "metadata": {},
     "output_type": "execute_result"
    },
    {
     "data": {
      "image/png": "[encoded data removed]",
      "text/plain": [
       "<matplotlib.figure.Figure at 0x111edef10>"
      ]
     },
     "metadata": {},
     "output_type": "display_data"
    }
   ],
   "source": [
    "hist(data_correlation['mass'].values, label='correlation bck', **hist_kw)\n",
    "legend()"
   ]
  },
  {
   "cell_type": "markdown",
   "metadata": {},
   "source": [
    "### TODO:\n",
    "\n",
    "* Train any linear model and ensemble model on `train_features`.\n",
    "* Are models are correlated with the mass?\n",
    "* Compute the AUC for the models\n",
    "* Are they have essential difference?\n",
    "* Use feature `(mass - mass.mean())**2` instead of `mass`. How does it infuence on the models?"
   ]
  },
  {
   "cell_type": "code",
   "execution_count": 35,
   "metadata": {
    "collapsed": false
   },
   "outputs": [],
   "source": [
    "from sklearn.cross_validation import train_test_split\n",
    "from sklearn.ensemble import GradientBoostingClassifier\n",
    "from sklearn.linear_model import LogisticRegression\n",
    "from sklearn.metrics import roc_auc_score"
   ]
  },
  {
   "cell_type": "code",
   "execution_count": 36,
   "metadata": {
    "collapsed": true
   },
   "outputs": [],
   "source": [
    "# Divide train on train, test\n",
    "train_index, test_index = train_test_split(range(len(data)))\n",
    "train = data.iloc[train_index, :]\n",
    "test = data.iloc[test_index, :]"
   ]
  },
  {
   "cell_type": "code",
   "execution_count": 37,
   "metadata": {
    "collapsed": true
   },
   "outputs": [],
   "source": [
    "# generate cvm pdf\n",
    "tau_cvm = generate_cvm_pdf(data_correlation.mass.values)"
   ]
  },
  {
   "cell_type": "code",
   "execution_count": 38,
   "metadata": {
    "collapsed": false
   },
   "outputs": [
    {
     "data": {
      "image/png": "[encoded data removed]",
      "text/plain": [
       "<matplotlib.figure.Figure at 0x115b90f10>"
      ]
     },
     "metadata": {},
     "output_type": "display_data"
    }
   ],
   "source": [
    "hist(tau_cvm, **hist_kw)\n",
    "pass"
   ]
  },
  {
   "cell_type": "code",
   "execution_count": 39,
   "metadata": {
    "collapsed": true
   },
   "outputs": [],
   "source": [
    "# define function to test model on cvm and calculate quality\n",
    "def test_model(model, features, cvm_pdf):\n",
    "    model_cvm = model.predict_proba(data_correlation[features])[:, 1]\n",
    "    model_corr = compute_cvm(data_correlation.mass.values, model_cvm)\n",
    "    print 'Correlation', model_corr, 'p-value', numpy.mean(cvm_pdf > model_corr)\n",
    "    print 'AUC', roc_auc_score(test.signal.values, model.predict_proba(test[features])[:, 1])"
   ]
  },
  {
   "cell_type": "code",
   "execution_count": 40,
   "metadata": {
    "collapsed": false
   },
   "outputs": [
    {
     "name": "stdout",
     "output_type": "stream",
     "text": [
      "Correlation 0.0245145228163 p-value 0.0\n",
      "AUC 0.999453830199\n"
     ]
    }
   ],
   "source": [
    "# train gradient boosting\n",
    "gb = GradientBoostingClassifier(n_estimators=300, learning_rate=0.05, min_samples_leaf=50, subsample=0.7, \n",
    "                                max_features=20)\n",
    "gb.fit(train[train_features], train['signal'].values)\n",
    "test_model(gb, train_features, tau_cvm)"
   ]
  },
  {
   "cell_type": "code",
   "execution_count": 41,
   "metadata": {
    "collapsed": false
   },
   "outputs": [
    {
     "name": "stdout",
     "output_type": "stream",
     "text": [
      "Correlation 0.00144782522651 p-value 0.0\n",
      "AUC 0.907718497107\n"
     ]
    }
   ],
   "source": [
    "# train logistic regression\n",
    "lr = LogisticRegression(max_iter=200)\n",
    "lr.fit(train[train_features], train['signal'].values)\n",
    "test_model(lr, train_features, tau_cvm)"
   ]
  },
  {
   "cell_type": "markdown",
   "metadata": {},
   "source": [
    "#### Add new feature for linear model"
   ]
  },
  {
   "cell_type": "code",
   "execution_count": 42,
   "metadata": {
    "collapsed": false
   },
   "outputs": [],
   "source": [
    "train['mean'] = (train.mass.values - train.mass.mean())**2\n",
    "test['mean'] = (test.mass.values - train.mass.mean())**2\n",
    "data_correlation['mean'] = (data_correlation.mass.values - train.mass.mean())**2"
   ]
  },
  {
   "cell_type": "code",
   "execution_count": 43,
   "metadata": {
    "collapsed": false
   },
   "outputs": [
    {
     "data": {
      "text/plain": [
       "<matplotlib.legend.Legend at 0x10ee27410>"
      ]
     },
     "execution_count": 43,
     "metadata": {},
     "output_type": "execute_result"
    },
    {
     "data": {
      "image/png": "[encoded data removed]",
      "text/plain": [
       "<matplotlib.figure.Figure at 0x114cf8f90>"
      ]
     },
     "metadata": {},
     "output_type": "display_data"
    }
   ],
   "source": [
    "hist(train[train.signal == 1]['mean'].values, label='signal MC', **hist_kw)\n",
    "hist(train[train.signal == 0]['mean'].values, label='bck real', **hist_kw)\n",
    "# xlim(1600, 1950)\n",
    "legend()"
   ]
  },
  {
   "cell_type": "code",
   "execution_count": 44,
   "metadata": {
    "collapsed": false
   },
   "outputs": [
    {
     "name": "stdout",
     "output_type": "stream",
     "text": [
      "Correlation 0.0258092170223 p-value 0.0\n",
      "AUC 0.999474475462\n"
     ]
    }
   ],
   "source": [
    "# train gradient boosting\n",
    "gb_new = GradientBoostingClassifier(n_estimators=300, learning_rate=0.05, min_samples_leaf=50, subsample=0.7, \n",
    "                                max_features=20)\n",
    "gb_new.fit(train[train_features + ['mean']], train['signal'].values)\n",
    "test_model(gb_new, train_features + ['mean'], tau_cvm)"
   ]
  },
  {
   "cell_type": "code",
   "execution_count": 45,
   "metadata": {
    "collapsed": false
   },
   "outputs": [
    {
     "name": "stdout",
     "output_type": "stream",
     "text": [
      "Correlation 0.0369520169248 p-value 0.0\n",
      "AUC 0.995769143381\n"
     ]
    }
   ],
   "source": [
    "# train gradient logistic regression\n",
    "lr_new = LogisticRegression(max_iter=200)\n",
    "lr_new.fit(train[train_features_wo_mass + ['mean']], train['signal'].values)\n",
    "test_model(lr_new, train_features_wo_mass + ['mean'], tau_cvm)"
   ]
  },
  {
   "cell_type": "markdown",
   "metadata": {},
   "source": [
    "We can see that new feature a bit helps to boosting and strongly helps to linear model (because for new feature linear model can distinguish signal and bck)"
   ]
  },
  {
   "cell_type": "markdown",
   "metadata": {},
   "source": [
    "### How does shape of the mass in correlation dataset change depending on models' thresholds?"
   ]
  },
  {
   "cell_type": "code",
   "execution_count": 46,
   "metadata": {
    "collapsed": false
   },
   "outputs": [],
   "source": [
    "def compare_shape(model, features):\n",
    "    probs = model.predict_proba(data_correlation[features])[:, 1]\n",
    "    hist_kw['bins'] = 30\n",
    "    for thr in [0.001, 0.05, 0.1, 0.5]:\n",
    "        hist(data_correlation[probs > thr]['mass'].values, label='thr=%1.2f' %thr, **hist_kw)\n",
    "    legend()"
   ]
  },
  {
   "cell_type": "code",
   "execution_count": 47,
   "metadata": {
    "collapsed": false
   },
   "outputs": [
    {
     "data": {
      "image/png": "[encoded data removed]",
      "text/plain": [
       "<matplotlib.figure.Figure at 0x10fb65950>"
      ]
     },
     "metadata": {},
     "output_type": "display_data"
    }
   ],
   "source": [
    "compare_shape(lr, train_features)"
   ]
  },
  {
   "cell_type": "code",
   "execution_count": 48,
   "metadata": {
    "collapsed": false
   },
   "outputs": [
    {
     "data": {
      "image/png": "[encoded data removed]",
      "text/plain": [
       "<matplotlib.figure.Figure at 0x1164e3cd0>"
      ]
     },
     "metadata": {},
     "output_type": "display_data"
    }
   ],
   "source": [
    "compare_shape(lr_new, train_features_wo_mass + ['mean'])"
   ]
  },
  {
   "cell_type": "markdown",
   "metadata": {},
   "source": [
    "It is seen that shape changes, but for linear model trained on mass (where cvm is too lower) the shape changes not strongly. Thus the second classifier is strongly correlated with the mass."
   ]
  },
  {
   "cell_type": "markdown",
   "metadata": {},
   "source": [
    "## How the feature bagging and events bagging affect the CvM and quality?"
   ]
  },
  {
   "cell_type": "code",
   "execution_count": 49,
   "metadata": {
    "collapsed": false
   },
   "outputs": [
    {
     "name": "stdout",
     "output_type": "stream",
     "text": [
      "Correlation 0.0221550725931 p-value 0.0\n",
      "AUC 0.999126009796\n",
      "Correlation 0.0205159341035 p-value 0.0\n",
      "AUC 0.999011531183\n",
      "Correlation 0.0144323248061 p-value 0.0\n",
      "AUC 0.997830536215\n",
      "Correlation 0.0098546583012 p-value 0.0\n",
      "AUC 0.994213133546\n"
     ]
    }
   ],
   "source": [
    "# train gradient boosting\n",
    "for max_features in [20, 15, 10, 5]:\n",
    "    gb = GradientBoostingClassifier(n_estimators=100, learning_rate=0.05, min_samples_leaf=50, subsample=0.7, \n",
    "                                    max_features=max_features)\n",
    "    gb.fit(train[train_features], train['signal'].values)\n",
    "    test_model(gb, train_features, tau_cvm)"
   ]
  },
  {
   "cell_type": "code",
   "execution_count": 50,
   "metadata": {
    "collapsed": false
   },
   "outputs": [
    {
     "name": "stdout",
     "output_type": "stream",
     "text": [
      "Correlation 0.0165865895772 p-value 0.0\n",
      "AUC 0.998218507151\n",
      "Correlation 0.0163680351747 p-value 0.0\n",
      "AUC 0.998198061896\n",
      "Correlation 0.0182433733466 p-value 0.0\n",
      "AUC 0.998525423023\n"
     ]
    }
   ],
   "source": [
    "# train gradient boosting\n",
    "for subsample in [0.2, 0.5, 0.9]:\n",
    "    gb = GradientBoostingClassifier(n_estimators=100, learning_rate=0.05, min_samples_leaf=50, subsample=subsample, \n",
    "                                    max_features=10)\n",
    "    gb.fit(train[train_features], train['signal'].values)\n",
    "    test_model(gb, train_features, tau_cvm)"
   ]
  },
  {
   "cell_type": "markdown",
   "metadata": {},
   "source": [
    "CvM and quality are both lower if max_feature/subsample becomes lower, but it is not sufficient to remove correlation. It will be useful, when you use feature (which is not strongly correlated with the mass) for training to prevent correlation."
   ]
  },
  {
   "cell_type": "markdown",
   "metadata": {},
   "source": [
    "## Produce new feature from mass to use it in training and make cvm much lower."
   ]
  },
  {
   "cell_type": "code",
   "execution_count": 51,
   "metadata": {
    "collapsed": false
   },
   "outputs": [],
   "source": [
    "train['new_mass'] = sin(train.mass.values / 10)\n",
    "test['new_mass'] = sin(test.mass.values / 10)\n",
    "data_correlation['new_mass'] = sin(data_correlation.mass.values / 10)"
   ]
  },
  {
   "cell_type": "code",
   "execution_count": 52,
   "metadata": {
    "collapsed": false
   },
   "outputs": [
    {
     "name": "stdout",
     "output_type": "stream",
     "text": [
      "Correlation 0.00183404902107 p-value 0.0\n",
      "AUC 0.967246471875\n"
     ]
    }
   ],
   "source": [
    "# train gradient boosting\n",
    "gb = GradientBoostingClassifier(n_estimators=300, learning_rate=0.05, min_samples_leaf=50, subsample=0.7, \n",
    "                                max_features=20)\n",
    "gb.fit(train[train_features_wo_mass + ['new_mass']], train['signal'].values)\n",
    "test_model(gb, train_features_wo_mass + ['new_mass'], tau_cvm)"
   ]
  },
  {
   "cell_type": "markdown",
   "metadata": {},
   "source": [
    "In the competition cvm 0.002 threshold is set. Now this model will pass this test, although it still looks like correlated (note that this threshold was set on much bigger dataset, so our cvm pdf differs from the original) "
   ]
  },
  {
   "cell_type": "markdown",
   "metadata": {},
   "source": [
    "### Answer the question: \n",
    "* What quality can you get if `mass` is not used in the training? Is it different? Then why? \n",
    "* What model is better, linear or ensemble? Compare their cvm."
   ]
  },
  {
   "cell_type": "code",
   "execution_count": 53,
   "metadata": {
    "collapsed": false
   },
   "outputs": [
    {
     "name": "stdout",
     "output_type": "stream",
     "text": [
      "Correlation 0.000996918609979 p-value 0.0572\n",
      "AUC 0.95078292289\n"
     ]
    }
   ],
   "source": [
    "# train gradient boosting\n",
    "gb = GradientBoostingClassifier(n_estimators=300, learning_rate=0.05, min_samples_leaf=50, subsample=0.7, \n",
    "                                max_features=20)\n",
    "gb.fit(train[train_features_wo_mass], train['signal'].values)\n",
    "test_model(gb, train_features_wo_mass, tau_cvm)"
   ]
  },
  {
   "cell_type": "code",
   "execution_count": 54,
   "metadata": {
    "collapsed": false
   },
   "outputs": [
    {
     "name": "stdout",
     "output_type": "stream",
     "text": [
      "Correlation 0.000862308681361 p-value 0.2782\n",
      "AUC 0.912749874351\n"
     ]
    }
   ],
   "source": [
    "# train gradient logistic regression\n",
    "lr = LogisticRegression(max_iter=200)\n",
    "lr.fit(train[train_features_wo_mass], train['signal'].values)\n",
    "test_model(lr, train_features_wo_mass, tau_cvm)"
   ]
  },
  {
   "cell_type": "markdown",
   "metadata": {},
   "source": [
    "## Example"
   ]
  },
  {
   "cell_type": "code",
   "execution_count": 55,
   "metadata": {
    "collapsed": true
   },
   "outputs": [],
   "source": [
    "from sklearn.ensemble import RandomForestClassifier"
   ]
  },
  {
   "cell_type": "code",
   "execution_count": 56,
   "metadata": {
    "collapsed": false
   },
   "outputs": [
    {
     "name": "stdout",
     "output_type": "stream",
     "text": [
      "Correlation 0.00371547496313 p-value 0.0\n",
      "AUC 0.877095779382\n"
     ]
    }
   ],
   "source": [
    "rf = RandomForestClassifier(n_estimators=3)\n",
    "rf.fit(train[train_features_wo_mass], train['signal'].values)\n",
    "test_model(rf, train_features_wo_mass, tau_cvm)"
   ]
  },
  {
   "cell_type": "markdown",
   "metadata": {},
   "source": [
    "## Explain why this model is correlated with the mass, although mass feature is absent in training sample?"
   ]
  },
  {
   "cell_type": "code",
   "execution_count": 57,
   "metadata": {
    "collapsed": false
   },
   "outputs": [
    {
     "name": "stdout",
     "output_type": "stream",
     "text": [
      "AUC on train 0.98926133041\n"
     ]
    }
   ],
   "source": [
    "print 'AUC on train', roc_auc_score(train.signal.values, rf.predict_proba(train[train_features_wo_mass])[:, 1])"
   ]
  },
  {
   "cell_type": "code",
   "execution_count": 58,
   "metadata": {
    "collapsed": true
   },
   "outputs": [],
   "source": [
    "probs = rf.predict_proba(test[train_features_wo_mass])[:, 1]"
   ]
  },
  {
   "cell_type": "code",
   "execution_count": 79,
   "metadata": {
    "collapsed": false
   },
   "outputs": [
    {
     "data": {
      "text/plain": [
       "<matplotlib.collections.PathCollection at 0x11e588390>"
      ]
     },
     "execution_count": 79,
     "metadata": {},
     "output_type": "execute_result"
    },
    {
     "data": {
      "image/png": "[encoded data removed]",
      "text/plain": [
       "<matplotlib.figure.Figure at 0x11ce69350>"
      ]
     },
     "metadata": {},
     "output_type": "display_data"
    }
   ],
   "source": [
    "shift = numpy.random.random(size=sum(test.signal == 0))\n",
    "scatter(test[test.signal == 0]['mass'].values, probs[test.signal.values == 0] + shift * 0.25, alpha=0.05, color='r')"
   ]
  },
  {
   "cell_type": "code",
   "execution_count": 60,
   "metadata": {
    "collapsed": false
   },
   "outputs": [
    {
     "data": {
      "image/png": "[encoded data removed]",
      "text/plain": [
       "<matplotlib.figure.Figure at 0x113b3dad0>"
      ]
     },
     "metadata": {},
     "output_type": "display_data"
    }
   ],
   "source": [
    "compare_shape(rf, train_features_wo_mass)"
   ]
  },
  {
   "cell_type": "markdown",
   "metadata": {},
   "source": [
    "You always have somehow correlated with the mass features. Tree can see reconstruct or not these dependencies. Features bagging, limited depth (for weak models) can help get uncorrelated model with well quality. But combinations of best models (like unlimited depth) can reconstruct mass and will be correlated with the mass, as in this example (also here we can notice overfitting-difference of our model)"
   ]
  },
  {
   "cell_type": "markdown",
   "metadata": {},
   "source": [
    "## Overfitting possibilities:\n",
    "* overfitting-difference (difference between prediction's pdf for training and test datasets) - check by comparing distributions\n",
    "* overfitting-complexity (overfitting because too many estimators used in training)"
   ]
  },
  {
   "cell_type": "markdown",
   "metadata": {},
   "source": [
    "### Overfitting-difference"
   ]
  },
  {
   "cell_type": "code",
   "execution_count": 61,
   "metadata": {
    "collapsed": true
   },
   "outputs": [],
   "source": [
    "probs_train = rf.predict_proba(train[train_features_wo_mass])[:, 1]"
   ]
  },
  {
   "cell_type": "code",
   "execution_count": 62,
   "metadata": {
    "collapsed": false
   },
   "outputs": [
    {
     "data": {
      "text/plain": [
       "<matplotlib.legend.Legend at 0x116eefad0>"
      ]
     },
     "execution_count": 62,
     "metadata": {},
     "output_type": "execute_result"
    },
    {
     "data": {
      "image/png": "[encoded data removed]",
      "text/plain": [
       "<matplotlib.figure.Figure at 0x117195fd0>"
      ]
     },
     "metadata": {},
     "output_type": "display_data"
    }
   ],
   "source": [
    "hist_kw['bins'] = 60\n",
    "hist_kw['alpha'] = 0.5\n",
    "hist_kw['range'] = (0, 1)\n",
    "hist(probs_train[train.signal.values == 1], color='r', label='train signal', **hist_kw)\n",
    "hist(probs[test.signal.values == 1], color='g', label='test signal', **hist_kw)\n",
    "legend(loc='upper center')"
   ]
  },
  {
   "cell_type": "code",
   "execution_count": 63,
   "metadata": {
    "collapsed": false
   },
   "outputs": [
    {
     "data": {
      "text/plain": [
       "<matplotlib.legend.Legend at 0x1161a2710>"
      ]
     },
     "execution_count": 63,
     "metadata": {},
     "output_type": "execute_result"
    },
    {
     "data": {
      "image/png": "[encoded data removed]",
      "text/plain": [
       "<matplotlib.figure.Figure at 0x115ea9dd0>"
      ]
     },
     "metadata": {},
     "output_type": "display_data"
    }
   ],
   "source": [
    "hist(probs_train[train.signal.values == 0], color='b', label='train bck', **hist_kw)\n",
    "hist(probs[test.signal.values == 0], color='y', label='test bck', **hist_kw)\n",
    "legend(loc='upper center')"
   ]
  },
  {
   "cell_type": "markdown",
   "metadata": {},
   "source": [
    "Thus tree structure influences the correlation!"
   ]
  },
  {
   "cell_type": "markdown",
   "metadata": {},
   "source": [
    "## Feature bagging invention\n",
    "\n",
    "Write your own feature bagging algorithm: features will be chosen with some probability.\n",
    "\n",
    "Compare using knn-method:\n",
    "\n",
    "* standard feature bagging and this one"
   ]
  },
  {
   "cell_type": "code",
   "execution_count": 64,
   "metadata": {
    "collapsed": false
   },
   "outputs": [],
   "source": [
    "from sklearn.base import BaseEstimator, TransformerMixin\n",
    "\n",
    "class FeatureSampler(BaseEstimator, TransformerMixin):\n",
    "    def fit(self, X, y, sample_weight=None):\n",
    "        # finish method: generate features proportionally their information \n",
    "        # compute information using roc auc score \n",
    "        aucs = []\n",
    "        self.n_features = X.shape[1]\n",
    "        self.max_features = numpy.random.randint(2, high=8)\n",
    "        \n",
    "        for feature in range(self.n_features):\n",
    "            auc = roc_auc_score(y, X[:, feature])\n",
    "            auc = abs(auc - 0.5)\n",
    "            aucs.append(auc)\n",
    "        self.features_information = numpy.array(aucs)\n",
    "        self.features_information /= sum(self.features_information)\n",
    "        self.used_features = numpy.random.choice(range(self.n_features), size=self.max_features, replace=False,\n",
    "                                                 p=self.features_information)\n",
    "        return self\n",
    "    \n",
    "    def transform(self, X):\n",
    "        # finish method returning necessary features         \n",
    "        return X[:, self.used_features]"
   ]
  },
  {
   "cell_type": "code",
   "execution_count": 65,
   "metadata": {
    "collapsed": false
   },
   "outputs": [],
   "source": [
    "from sklearn.ensemble import BaggingClassifier\n",
    "from sklearn.neighbors import KNeighborsClassifier\n",
    "from sklearn.pipeline import Pipeline\n",
    "from sklearn.preprocessing import StandardScaler"
   ]
  },
  {
   "cell_type": "code",
   "execution_count": 66,
   "metadata": {
    "collapsed": false
   },
   "outputs": [],
   "source": [
    "simple_knn = KNeighborsClassifier(n_neighbors=50)\n",
    "pp_sampler = Pipeline([('sampler', FeatureSampler()), ('knn', simple_knn)])"
   ]
  },
  {
   "cell_type": "markdown",
   "metadata": {},
   "source": [
    "### train simple knn"
   ]
  },
  {
   "cell_type": "code",
   "execution_count": 67,
   "metadata": {
    "collapsed": false
   },
   "outputs": [
    {
     "name": "stdout",
     "output_type": "stream",
     "text": [
      "Correlation 0.00118541558289 p-value 0.0034\n",
      "AUC 0.613616896871\n"
     ]
    }
   ],
   "source": [
    "simple_knn.fit(train[train_features_wo_mass], train['signal'].values)\n",
    "test_model(simple_knn, train_features_wo_mass, tau_cvm)"
   ]
  },
  {
   "cell_type": "markdown",
   "metadata": {},
   "source": [
    "### train knn with standard bagging"
   ]
  },
  {
   "cell_type": "code",
   "execution_count": 68,
   "metadata": {
    "collapsed": false
   },
   "outputs": [
    {
     "name": "stdout",
     "output_type": "stream",
     "text": [
      "Correlation 0.00079337894929 p-value 0.5088\n",
      "AUC 0.903703441636\n"
     ]
    }
   ],
   "source": [
    "bg = BaggingClassifier(base_estimator=simple_knn, n_estimators=50, max_samples=0.5, max_features=0.1)\n",
    "bg.fit(train[train_features_wo_mass], train['signal'].values)\n",
    "test_model(bg, train_features_wo_mass, tau_cvm)"
   ]
  },
  {
   "cell_type": "markdown",
   "metadata": {},
   "source": [
    "### own feature bagging "
   ]
  },
  {
   "cell_type": "code",
   "execution_count": 69,
   "metadata": {
    "collapsed": false
   },
   "outputs": [
    {
     "name": "stdout",
     "output_type": "stream",
     "text": [
      "Correlation 0.000993722687675 p-value 0.0606\n",
      "AUC 0.907809819246\n"
     ]
    }
   ],
   "source": [
    "bg = BaggingClassifier(base_estimator=pp_sampler, n_estimators=50, max_samples=0.5)\n",
    "bg.fit(train[train_features_wo_mass], train['signal'].values)\n",
    "test_model(bg, train_features_wo_mass, tau_cvm)"
   ]
  },
  {
   "cell_type": "markdown",
   "metadata": {},
   "source": [
    "Thus, bagging improve knn algorithm and another feature bagging also gives improvement"
   ]
  },
  {
   "cell_type": "markdown",
   "metadata": {},
   "source": [
    "### Can some scaler help to improve knn quality?\n",
    "As an example, there is `sklearn.preprocessing.StandardScaler`"
   ]
  },
  {
   "cell_type": "code",
   "execution_count": 70,
   "metadata": {
    "collapsed": true
   },
   "outputs": [],
   "source": [
    "pp_sampler = Pipeline([('scaler', StandardScaler()), ('sampler', FeatureSampler()), ('knn', simple_knn)])\n",
    "pp = Pipeline([('scaler', StandardScaler()), ('knn', simple_knn)])"
   ]
  },
  {
   "cell_type": "code",
   "execution_count": 71,
   "metadata": {
    "collapsed": false
   },
   "outputs": [
    {
     "name": "stdout",
     "output_type": "stream",
     "text": [
      "Correlation 0.000905025118527 p-value 0.1786\n",
      "AUC 0.929466566704\n"
     ]
    }
   ],
   "source": [
    "pp.fit(train[train_features_wo_mass], train['signal'].values)\n",
    "test_model(pp, train_features_wo_mass, tau_cvm)"
   ]
  },
  {
   "cell_type": "code",
   "execution_count": 72,
   "metadata": {
    "collapsed": false
   },
   "outputs": [
    {
     "name": "stdout",
     "output_type": "stream",
     "text": [
      "Correlation 0.00097794662584 p-value 0.0748\n",
      "AUC 0.894055133208\n"
     ]
    }
   ],
   "source": [
    "bg = BaggingClassifier(base_estimator=pp, n_estimators=50, max_samples=0.5, max_features=0.1)\n",
    "bg.fit(train[train_features_wo_mass], train['signal'].values)\n",
    "test_model(bg, train_features_wo_mass, tau_cvm)"
   ]
  },
  {
   "cell_type": "code",
   "execution_count": 73,
   "metadata": {
    "collapsed": false
   },
   "outputs": [
    {
     "name": "stdout",
     "output_type": "stream",
     "text": [
      "Correlation 0.0011780927918 p-value 0.0038\n",
      "AUC 0.910721393933\n"
     ]
    }
   ],
   "source": [
    "bg = BaggingClassifier(base_estimator=pp_sampler, n_estimators=50, max_samples=0.5)\n",
    "bg.fit(train[train_features_wo_mass], train['signal'].values)\n",
    "test_model(bg, train_features_wo_mass, tau_cvm)"
   ]
  },
  {
   "cell_type": "markdown",
   "metadata": {},
   "source": [
    "### Algorithm quality depends on the data preprocessing, which should be different for various models"
   ]
  },
  {
   "cell_type": "markdown",
   "metadata": {},
   "source": [
    "## Summarize:\n",
    "\n",
    "* Now you can understand the trade off between the corelation and quality\n",
    "* You can invent new algorithms which will be trained on the mass column and will be not correlated with the mass"
   ]
  },
  {
   "cell_type": "code",
   "execution_count": null,
   "metadata": {
    "collapsed": true
   },
   "outputs": [],
   "source": []
  }
 ],
 "metadata": {
  "kernelspec": {
   "display_name": "Python 2",
   "language": "python",
   "name": "python2"
  },
  "language_info": {
   "codemirror_mode": {
    "name": "ipython",
    "version": 2
   },
   "file_extension": ".py",
   "mimetype": "text/x-python",
   "name": "python",
   "nbconvert_exporter": "python",
   "pygments_lexer": "ipython2",
   "version": "2.7.8"
  }
 },
 "nbformat": 4,
 "nbformat_minor": 0
}
