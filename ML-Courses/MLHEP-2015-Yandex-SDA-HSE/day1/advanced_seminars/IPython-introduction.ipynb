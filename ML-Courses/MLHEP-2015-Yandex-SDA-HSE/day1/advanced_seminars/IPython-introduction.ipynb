{
 "cells": [
  {
   "cell_type": "markdown",
   "metadata": {},
   "source": [
    "## Magic function for graphs (matplotlib library)"
   ]
  },
  {
   "cell_type": "code",
   "execution_count": 1,
   "metadata": {
    "collapsed": false
   },
   "outputs": [
    {
     "name": "stdout",
     "output_type": "stream",
     "text": [
      "Populating the interactive namespace from numpy and matplotlib\n"
     ]
    }
   ],
   "source": [
    "%pylab inline"
   ]
  },
  {
   "cell_type": "markdown",
   "metadata": {},
   "source": [
    "## NumPy\n",
    "\n",
    "NumPy is an extension of python supporting huge multi-dimensional arrays and matrices and containing high-level mathematical functions to process such data."
   ]
  },
  {
   "cell_type": "code",
   "execution_count": 2,
   "metadata": {
    "collapsed": true
   },
   "outputs": [],
   "source": [
    "import numpy"
   ]
  },
  {
   "cell_type": "markdown",
   "metadata": {},
   "source": [
    "### create numpy array"
   ]
  },
  {
   "cell_type": "code",
   "execution_count": 3,
   "metadata": {
    "collapsed": false
   },
   "outputs": [
    {
     "name": "stdout",
     "output_type": "stream",
     "text": [
      "[0 1 2 3 4 5 6 7 8 9] <type 'numpy.ndarray'> int64 (10,)\n"
     ]
    }
   ],
   "source": [
    "x = numpy.array(range(10))\n",
    "print x, type(x), x.dtype, x.shape"
   ]
  },
  {
   "cell_type": "code",
   "execution_count": 4,
   "metadata": {
    "collapsed": false
   },
   "outputs": [
    {
     "name": "stdout",
     "output_type": "stream",
     "text": [
      "[[ 1.5  2.   3. ]\n",
      " [ 4.   5.   6. ]] <type 'numpy.ndarray'> float64 (2, 3)\n"
     ]
    }
   ],
   "source": [
    "y = numpy.array( [(1.5, 2, 3), (4, 5, 6) ])\n",
    "print y, type(y), y.dtype, y.shape"
   ]
  },
  {
   "cell_type": "code",
   "execution_count": 5,
   "metadata": {
    "collapsed": false
   },
   "outputs": [
    {
     "name": "stdout",
     "output_type": "stream",
     "text": [
      "[3 4]\n",
      "[0 3 6 9]\n",
      "[0 4 8]\n"
     ]
    }
   ],
   "source": [
    "# necessary indices from array\n",
    "print x[3:5]\n",
    "# array elements with step=3\n",
    "print x[::3]\n",
    "# array elements with some boolean condition\n",
    "print x[x%4 ==0]"
   ]
  },
  {
   "cell_type": "markdown",
   "metadata": {},
   "source": [
    "### linspace &mdash; create 1d mesh "
   ]
  },
  {
   "cell_type": "code",
   "execution_count": 6,
   "metadata": {
    "collapsed": false
   },
   "outputs": [
    {
     "name": "stdout",
     "output_type": "stream",
     "text": [
      "[ 0.          0.01010101  0.02020202  0.03030303  0.04040404  0.05050505\n",
      "  0.06060606  0.07070707  0.08080808  0.09090909  0.1010101   0.11111111\n",
      "  0.12121212  0.13131313  0.14141414  0.15151515  0.16161616  0.17171717\n",
      "  0.18181818  0.19191919  0.2020202   0.21212121  0.22222222  0.23232323\n",
      "  0.24242424  0.25252525  0.26262626  0.27272727  0.28282828  0.29292929\n",
      "  0.3030303   0.31313131  0.32323232  0.33333333  0.34343434  0.35353535\n",
      "  0.36363636  0.37373737  0.38383838  0.39393939  0.4040404   0.41414141\n",
      "  0.42424242  0.43434343  0.44444444  0.45454545  0.46464646  0.47474747\n",
      "  0.48484848  0.49494949  0.50505051  0.51515152  0.52525253  0.53535354\n",
      "  0.54545455  0.55555556  0.56565657  0.57575758  0.58585859  0.5959596\n",
      "  0.60606061  0.61616162  0.62626263  0.63636364  0.64646465  0.65656566\n",
      "  0.66666667  0.67676768  0.68686869  0.6969697   0.70707071  0.71717172\n",
      "  0.72727273  0.73737374  0.74747475  0.75757576  0.76767677  0.77777778\n",
      "  0.78787879  0.7979798   0.80808081  0.81818182  0.82828283  0.83838384\n",
      "  0.84848485  0.85858586  0.86868687  0.87878788  0.88888889  0.8989899\n",
      "  0.90909091  0.91919192  0.92929293  0.93939394  0.94949495  0.95959596\n",
      "  0.96969697  0.97979798  0.98989899  1.        ]\n"
     ]
    }
   ],
   "source": [
    "points = numpy.linspace(0, 1, num=100)\n",
    "print points"
   ]
  },
  {
   "cell_type": "markdown",
   "metadata": {},
   "source": [
    "### simple functions"
   ]
  },
  {
   "cell_type": "code",
   "execution_count": 7,
   "metadata": {
    "collapsed": false
   },
   "outputs": [
    {
     "data": {
      "text/plain": [
       "(1.0, 0.0, 0.5, 0.085016835016835032, 50.0)"
      ]
     },
     "execution_count": 7,
     "metadata": {},
     "output_type": "execute_result"
    }
   ],
   "source": [
    "points.max(), points.min(), points.mean(), points.var(), points.sum()"
   ]
  },
  {
   "cell_type": "markdown",
   "metadata": {},
   "source": [
    "### generate random values and plot histograms"
   ]
  },
  {
   "cell_type": "code",
   "execution_count": 8,
   "metadata": {
    "collapsed": false
   },
   "outputs": [
    {
     "data": {
      "text/plain": [
       "<matplotlib.legend.Legend at 0x10e5f7c90>"
      ]
     },
     "execution_count": 8,
     "metadata": {},
     "output_type": "execute_result"
    },
    {
     "data": {
      "image/png": "[encoded data removed]",
      "text/plain": [
       "<matplotlib.figure.Figure at 0x10cc94310>"
      ]
     },
     "metadata": {},
     "output_type": "display_data"
    }
   ],
   "source": [
    "random_normal = numpy.random.normal(size=10000, loc=50, scale=5)\n",
    "random_exp = numpy.random.exponential(size=5000, scale=5)\n",
    "hist(random_normal, bins=30, color='red', label='normal')\n",
    "hist(random_exp, bins=30, color='blue', label='exp')\n",
    "legend()"
   ]
  },
  {
   "cell_type": "code",
   "execution_count": 9,
   "metadata": {
    "collapsed": false
   },
   "outputs": [
    {
     "data": {
      "text/plain": [
       "<matplotlib.legend.Legend at 0x10e8d27d0>"
      ]
     },
     "execution_count": 9,
     "metadata": {},
     "output_type": "execute_result"
    },
    {
     "data": {
      "image/png": "[encoded data removed]",
      "text/plain": [
       "<matplotlib.figure.Figure at 0x10e5b5610>"
      ]
     },
     "metadata": {},
     "output_type": "display_data"
    }
   ],
   "source": [
    "random_floats = numpy.random.random(size=10000)\n",
    "random_classes = numpy.random.random(size=10000) > 0.5\n",
    "hist(random_floats[random_classes == True], bins=30, color='red', label='greater')\n",
    "hist(random_floats[random_classes == False], bins=30, color='blue', label='lower')\n",
    "legend()"
   ]
  },
  {
   "cell_type": "code",
   "execution_count": 10,
   "metadata": {
    "collapsed": false
   },
   "outputs": [
    {
     "data": {
      "text/plain": [
       "<matplotlib.legend.Legend at 0x10eb3bc50>"
      ]
     },
     "execution_count": 10,
     "metadata": {},
     "output_type": "execute_result"
    },
    {
     "data": {
      "image/png": "[encoded data removed]",
      "text/plain": [
       "<matplotlib.figure.Figure at 0x10e778f50>"
      ]
     },
     "metadata": {},
     "output_type": "display_data"
    }
   ],
   "source": [
    "hist(random_floats[random_classes == True], bins=30, color='red', label='greater', histtype='step')\n",
    "hist(random_floats[random_classes == False], bins=30, color='blue', label='lower', histtype='step')\n",
    "legend()"
   ]
  },
  {
   "cell_type": "markdown",
   "metadata": {},
   "source": [
    "### sort elements"
   ]
  },
  {
   "cell_type": "code",
   "execution_count": 11,
   "metadata": {
    "collapsed": false
   },
   "outputs": [
    {
     "data": {
      "text/plain": [
       "array([  1.72333915e-04,   4.08665210e-04,   4.57377894e-04, ...,\n",
       "         9.99493672e-01,   9.99815885e-01,   9.99875028e-01])"
      ]
     },
     "execution_count": 11,
     "metadata": {},
     "output_type": "execute_result"
    }
   ],
   "source": [
    "# return new sorted array\n",
    "numpy.sort(random_floats)"
   ]
  },
  {
   "cell_type": "markdown",
   "metadata": {},
   "source": [
    "### argsort \n",
    "Returns the indices that would sort an array"
   ]
  },
  {
   "cell_type": "code",
   "execution_count": 12,
   "metadata": {
    "collapsed": false
   },
   "outputs": [
    {
     "data": {
      "text/plain": [
       "array([9869, 1620, 2887, ..., 6798, 5169, 3511])"
      ]
     },
     "execution_count": 12,
     "metadata": {},
     "output_type": "execute_result"
    }
   ],
   "source": [
    "random_floats.argsort()"
   ]
  },
  {
   "cell_type": "code",
   "execution_count": 13,
   "metadata": {
    "collapsed": false
   },
   "outputs": [
    {
     "data": {
      "text/plain": [
       "array([   0,    1,    2, ..., 9997, 9998, 9999])"
      ]
     },
     "execution_count": 13,
     "metadata": {},
     "output_type": "execute_result"
    }
   ],
   "source": [
    "# update array on sort version\n",
    "random_floats.sort()\n",
    "random_floats.argsort()"
   ]
  },
  {
   "cell_type": "markdown",
   "metadata": {},
   "source": [
    "### cumulative sum"
   ]
  },
  {
   "cell_type": "code",
   "execution_count": 14,
   "metadata": {
    "collapsed": false
   },
   "outputs": [
    {
     "data": {
      "text/plain": [
       "array([  4.08665210e-04,   8.66043104e-04,   2.14269461e-03, ...,\n",
       "         2.49070594e+03,   2.49170538e+03,   2.49270520e+03])"
      ]
     },
     "execution_count": 14,
     "metadata": {},
     "output_type": "execute_result"
    }
   ],
   "source": [
    "random_floats[random_classes == True].cumsum(axis=0)"
   ]
  },
  {
   "cell_type": "code",
   "execution_count": 15,
   "metadata": {
    "collapsed": false
   },
   "outputs": [
    {
     "data": {
      "text/plain": [
       "<matplotlib.text.Text at 0x10eb53f90>"
      ]
     },
     "execution_count": 15,
     "metadata": {},
     "output_type": "execute_result"
    },
    {
     "data": {
      "image/png": "[encoded data removed]",
      "text/plain": [
       "<matplotlib.figure.Figure at 0x10e741b10>"
      ]
     },
     "metadata": {},
     "output_type": "display_data"
    }
   ],
   "source": [
    "plot(range(numpy.sum(random_classes == True)), random_floats[random_classes == True].cumsum(axis=0))\n",
    "xlabel('points')\n",
    "ylabel('cumsum')"
   ]
  },
  {
   "cell_type": "markdown",
   "metadata": {},
   "source": [
    "### searchsorted\n",
    "Find indices where elements should be inserted to maintain order"
   ]
  },
  {
   "cell_type": "code",
   "execution_count": 16,
   "metadata": {
    "collapsed": false
   },
   "outputs": [
    {
     "name": "stdout",
     "output_type": "stream",
     "text": [
      "[ 0.1   0.26  0.42  0.58  0.74  0.9 ]\n",
      "[  1.72333915e-04   4.08665210e-04   4.57377894e-04 ...,   9.99493672e-01\n",
      "   9.99815885e-01   9.99875028e-01]\n",
      "[0 0 0 ..., 6 6 6]\n"
     ]
    }
   ],
   "source": [
    "bins = numpy.linspace(0.1, 0.9, 6)\n",
    "print bins\n",
    "bins_index = numpy.searchsorted(bins, random_floats)\n",
    "print random_floats\n",
    "print bins_index"
   ]
  },
  {
   "cell_type": "markdown",
   "metadata": {},
   "source": [
    "Note: here are the first bin with values < 0. and the latest bins is [0.875, 1]"
   ]
  },
  {
   "cell_type": "markdown",
   "metadata": {},
   "source": [
    "### bincount \n",
    "Count number of occurrences of each value in array of non-negative ints"
   ]
  },
  {
   "cell_type": "code",
   "execution_count": 17,
   "metadata": {
    "collapsed": false
   },
   "outputs": [
    {
     "name": "stdout",
     "output_type": "stream",
     "text": [
      "[ 500.  776.  843.  807.  795.  798.  485.]\n",
      "[ 443.  841.  813.  802.  824.  782.  491.]\n"
     ]
    }
   ],
   "source": [
    "# count events with label 1 in each bin \n",
    "print numpy.bincount(bins_index, weights=random_classes)\n",
    "# count events with label 0 in each bin\n",
    "print numpy.bincount(bins_index, weights=1 - random_classes)"
   ]
  },
  {
   "cell_type": "markdown",
   "metadata": {},
   "source": [
    "### percentile\n",
    "\n",
    "Compute the qth percentile of the data"
   ]
  },
  {
   "cell_type": "code",
   "execution_count": 18,
   "metadata": {
    "collapsed": false
   },
   "outputs": [
    {
     "name": "stdout",
     "output_type": "stream",
     "text": [
      "value 0.105608289596\n",
      "check percentile 0.1\n"
     ]
    }
   ],
   "source": [
    "q50 = numpy.percentile(random_floats, 10)\n",
    "print 'value', q50\n",
    "print 'check percentile', 1. * numpy.sum(random_floats < q50) / len(random_floats)"
   ]
  },
  {
   "cell_type": "markdown",
   "metadata": {},
   "source": [
    "## Exercise"
   ]
  },
  {
   "cell_type": "markdown",
   "metadata": {},
   "source": [
    "### Generate numpy.array with shape (10, 10), calculate min, max, mean, var for each axis\n",
    "\n",
    "Hint: use `numpy.reshape` and `axis` parameter in `min` (etc.) function "
   ]
  },
  {
   "cell_type": "code",
   "execution_count": 19,
   "metadata": {
    "collapsed": false
   },
   "outputs": [
    {
     "name": "stdout",
     "output_type": "stream",
     "text": [
      "[[ 1.43824657  0.09207331 -0.06213516  1.24321865 -0.3955061   1.96016055\n",
      "  -0.33808091 -1.64390834  0.06531956 -1.43042341]\n",
      " [-1.10082704  0.54636134  1.01099451  0.29041271  0.50128341  0.83409641\n",
      "  -0.23575284  1.01302567  0.55150632 -1.23921034]\n",
      " [-1.30242837 -1.00982671 -1.37283862 -0.55131034 -1.00055077  1.12341434\n",
      "  -0.68489075 -1.33458098 -1.15875112  0.28555243]\n",
      " [ 0.78804538  1.1551358   0.35099338  0.40999097 -0.25451546  1.28805766\n",
      "   0.27714877  1.02358663  0.84225029 -0.85955075]\n",
      " [-1.46503352  1.9579244   1.13054473 -1.35606085 -0.36307763 -0.22114038\n",
      "   0.00476517 -0.64345415  0.32769844  0.2254105 ]\n",
      " [-2.36876956  1.99176544 -1.54369138  2.64298577 -0.81502878  0.07341303\n",
      "  -2.08277986  0.39084085  0.23646795 -0.99529805]\n",
      " [ 1.67370366 -0.2829176  -1.22624684  0.68668279  0.58472438 -0.39911747\n",
      "   1.74845414 -0.76148402 -1.49353768 -0.37687396]\n",
      " [-0.34184803 -0.34529561 -1.05522072  0.96477128 -0.27560028 -0.80598429\n",
      "   0.11223972 -0.63151057 -0.59483171 -0.44952094]\n",
      " [-0.11167424 -0.73060457  0.33735448  0.3597161  -0.11526495  0.0250067\n",
      "   0.25771771 -0.61530277 -0.22980071  0.68129233]\n",
      " [-0.35147477 -0.28291697  0.94083668 -0.47848034  0.77807879 -0.48708242\n",
      "  -0.76027381  0.96952724 -1.35236107 -0.37315702]]\n"
     ]
    }
   ],
   "source": [
    "matrix = numpy.random.normal(size=100).reshape((10, 10))\n",
    "print matrix"
   ]
  },
  {
   "cell_type": "code",
   "execution_count": 20,
   "metadata": {
    "collapsed": false
   },
   "outputs": [
    {
     "name": "stdout",
     "output_type": "stream",
     "text": [
      "Axis 0\n",
      "[ 1.67370366  1.99176544  1.13054473  2.64298577  0.77807879  1.96016055\n",
      "  1.74845414  1.02358663  0.84225029  0.68129233]\n",
      "[-2.36876956 -1.00982671 -1.54369138 -1.35606085 -1.00055077 -0.80598429\n",
      " -2.08277986 -1.64390834 -1.49353768 -1.43042341]\n",
      "[-0.31420599  0.30916988 -0.14894089  0.42119267 -0.13554574  0.33908241\n",
      " -0.17014527 -0.22332604 -0.28060397 -0.45317792]\n",
      "[ 1.54219966  1.03189107  1.00892873  1.0912866   0.31225116  0.74104023\n",
      "  0.84783897  0.89227803  0.62026014  0.43373554]\n",
      "Axis 1\n",
      "[ 1.96016055  1.01302567  1.12341434  1.28805766  1.9579244   2.64298577\n",
      "  1.74845414  0.96477128  0.68129233  0.96952724]\n",
      "[-1.64390834 -1.23921034 -1.37283862 -0.85955075 -1.46503352 -2.36876956\n",
      " -1.49353768 -1.05522072 -0.73060457 -1.35236107]\n",
      "[ 0.09289647  0.21718902 -0.70062109  0.50211427 -0.04024233 -0.24700946\n",
      "  0.01533874 -0.34228012 -0.01415599 -0.13973037]\n",
      "[ 1.24059521  0.60136734  0.59335872  0.40220805  0.98336097  2.45433441\n",
      "  1.1365024   0.28016702  0.17633488  0.54512297]\n"
     ]
    }
   ],
   "source": [
    "for axis_i in [0, 1]:\n",
    "    print \"Axis\", axis_i\n",
    "    print matrix.max(axis=axis_i)\n",
    "    print matrix.min(axis=axis_i)\n",
    "    print matrix.mean(axis=axis_i)\n",
    "    print matrix.var(axis=axis_i)"
   ]
  },
  {
   "cell_type": "markdown",
   "metadata": {},
   "source": [
    "### Generate predictions for class 1 from normal + uniform pdf and predictions for class 0 exponential + uniform, size for both classes is 10000\n",
    "\n",
    "Hint: use `numpy.concatenate` function "
   ]
  },
  {
   "cell_type": "code",
   "execution_count": 21,
   "metadata": {
    "collapsed": false
   },
   "outputs": [],
   "source": [
    "probs_signal = numpy.random.normal(size=10000) + numpy.random.random(size=10000)\n",
    "probs_signal = probs_signal - probs_signal.min()\n",
    "probs_signal = probs_signal / (probs_signal.max() - probs_signal.min())\n",
    "probs_bck = numpy.random.exponential(size=10000) + numpy.random.random(size=10000)\n",
    "probs_bck = probs_bck / (probs_bck.max() - probs_bck.min())\n",
    "probs = numpy.concatenate([probs_signal, probs_bck]) \n",
    "class_labels = [1] * 10000 + [0] * 10000\n",
    "class_labels = numpy.array(class_labels)"
   ]
  },
  {
   "cell_type": "markdown",
   "metadata": {},
   "source": [
    "### Plot histograms of predictions for each class, bins=100"
   ]
  },
  {
   "cell_type": "code",
   "execution_count": 22,
   "metadata": {
    "collapsed": false
   },
   "outputs": [
    {
     "data": {
      "image/png": "[encoded data removed]",
      "text/plain": [
       "<matplotlib.figure.Figure at 0x10ec6f1d0>"
      ]
     },
     "metadata": {},
     "output_type": "display_data"
    }
   ],
   "source": [
    "hist(probs[class_labels == 1], bins=30, color='red', label='ones', histtype='step')\n",
    "hist(probs[class_labels == 0], bins=30, color='blue', label='zeros', histtype='step')\n",
    "legend()\n",
    "pass"
   ]
  },
  {
   "cell_type": "markdown",
   "metadata": {},
   "source": [
    "### Compute for meshgrid [0, 20-p, 40-p, 60-p, 80-p, 1] (where X-p - X percentile for 1-labeled data) the following metrics:\n",
    "* efficiencies for each class\n",
    "* s / sqrt(b + 10), where s - count of 1-labeled data, b - 0-labeled data"
   ]
  },
  {
   "cell_type": "code",
   "execution_count": 23,
   "metadata": {
    "collapsed": true
   },
   "outputs": [],
   "source": [
    "bins = numpy.percentile(probs[class_labels == 1], [20, 40, 60, 80])"
   ]
  },
  {
   "cell_type": "code",
   "execution_count": 24,
   "metadata": {
    "collapsed": false
   },
   "outputs": [
    {
     "data": {
      "text/plain": [
       "array([ 0.40611679,  0.48718048,  0.55860725,  0.63763161])"
      ]
     },
     "execution_count": 24,
     "metadata": {},
     "output_type": "execute_result"
    }
   ],
   "source": [
    "bins"
   ]
  },
  {
   "cell_type": "code",
   "execution_count": 25,
   "metadata": {
    "collapsed": true
   },
   "outputs": [],
   "source": [
    "bins_index = numpy.searchsorted(bins, probs)"
   ]
  },
  {
   "cell_type": "code",
   "execution_count": 27,
   "metadata": {
    "collapsed": false
   },
   "outputs": [
    {
     "data": {
      "text/plain": [
       "array([0, 3, 4, 2, 1, 2, 2, 1, 4, 3, 0, 0, 2, 2, 3, 1, 1, 0, 0, 1, 1, 0, 2,\n",
       "       1, 4, 4, 1, 1, 2, 1, 4, 1, 1, 2, 0, 3, 1, 3, 3, 2, 1, 2, 1, 2, 3, 2,\n",
       "       3, 0, 3, 2, 3, 0, 2, 2, 0, 1, 4, 1, 3, 4, 4, 2, 2, 2, 4, 3, 4, 3, 3,\n",
       "       0, 0, 0, 3, 2, 2, 1, 0, 1, 3, 4, 2, 4, 2, 0, 2, 0, 0, 0, 1, 1, 2, 0,\n",
       "       2, 1, 4, 2, 1, 0, 4, 2])"
      ]
     },
     "execution_count": 27,
     "metadata": {},
     "output_type": "execute_result"
    }
   ],
   "source": [
    "bins_index[:100]"
   ]
  },
  {
   "cell_type": "code",
   "execution_count": 28,
   "metadata": {
    "collapsed": true
   },
   "outputs": [],
   "source": [
    "signal_count = numpy.bincount(bins_index, weights=class_labels)"
   ]
  },
  {
   "cell_type": "code",
   "execution_count": 29,
   "metadata": {
    "collapsed": false
   },
   "outputs": [
    {
     "data": {
      "text/plain": [
       "array([ 2000.,  2000.,  2000.,  2000.,  2000.])"
      ]
     },
     "execution_count": 29,
     "metadata": {},
     "output_type": "execute_result"
    }
   ],
   "source": [
    "signal_count"
   ]
  },
  {
   "cell_type": "code",
   "execution_count": null,
   "metadata": {
    "collapsed": true
   },
   "outputs": [],
   "source": [
    "bck_count = numpy.bincount(bins_index, weights=1 - class_labels)"
   ]
  },
  {
   "cell_type": "code",
   "execution_count": 23,
   "metadata": {
    "collapsed": false
   },
   "outputs": [
    {
     "name": "stdout",
     "output_type": "stream",
     "text": [
      "1-label eff \n",
      "[ 0.2  0.2  0.2  0.2  0.2]\n",
      "0-lable eff \n",
      "[ 0.7135  0.0941  0.0577  0.0522  0.0825]\n",
      "s/sqrt(s+b) \n",
      "[ 23.66077028  64.85444351  82.54883434  86.71099695  69.21285402]\n"
     ]
    }
   ],
   "source": [
    "\n",
    "\n",
    "signal_count = numpy.bincount(bins_index, weights=class_labels)\n",
    "bck_count = numpy.bincount(bins_index, weights=1 - class_labels)\n",
    "print '1-label eff', '\\n', 1. * signal_count / numpy.sum(class_labels)\n",
    "print '0-lable eff', '\\n', 1. * bck_count / numpy.sum(1-class_labels)\n",
    "print 's/sqrt(s+b)', '\\n', 1. * signal_count / numpy.sqrt(10. + bck_count)"
   ]
  },
  {
   "cell_type": "markdown",
   "metadata": {},
   "source": [
    "### Plot dependence between metric and bin"
   ]
  },
  {
   "cell_type": "code",
   "execution_count": 24,
   "metadata": {
    "collapsed": false
   },
   "outputs": [
    {
     "data": {
      "text/plain": [
       "<matplotlib.legend.Legend at 0x105fe0390>"
      ]
     },
     "execution_count": 24,
     "metadata": {},
     "output_type": "execute_result"
    },
    {
     "data": {
      "image/png": "[encoded data removed]",
      "text/plain": [
       "<matplotlib.figure.Figure at 0x105b17dd0>"
      ]
     },
     "metadata": {},
     "output_type": "display_data"
    }
   ],
   "source": [
    "plot(range(len(signal_count)), 1. * signal_count / numpy.sum(class_labels), label='eff one')\n",
    "plot(range(len(signal_count)), 1. * bck_count / numpy.sum(1-class_labels), label='eff zero')\n",
    "legend()"
   ]
  },
  {
   "cell_type": "code",
   "execution_count": 25,
   "metadata": {
    "collapsed": false
   },
   "outputs": [
    {
     "data": {
      "text/plain": [
       "<matplotlib.legend.Legend at 0x105d3c610>"
      ]
     },
     "execution_count": 25,
     "metadata": {},
     "output_type": "execute_result"
    },
    {
     "data": {
      "image/png": "[encoded data removed]",
      "text/plain": [
       "<matplotlib.figure.Figure at 0x105d3c850>"
      ]
     },
     "metadata": {},
     "output_type": "display_data"
    }
   ],
   "source": [
    "plot(range(len(signal_count)), 1. * signal_count / numpy.sqrt(10. + bck_count), label='s/sqrt(b + 10)')\n",
    "legend(loc='best')"
   ]
  },
  {
   "cell_type": "markdown",
   "metadata": {},
   "source": [
    "## `.csv` and `.root` data formats"
   ]
  },
  {
   "cell_type": "code",
   "execution_count": 26,
   "metadata": {
    "collapsed": true
   },
   "outputs": [],
   "source": [
    "import pandas"
   ]
  },
  {
   "cell_type": "code",
   "execution_count": 27,
   "metadata": {
    "collapsed": false
   },
   "outputs": [
    {
     "data": {
      "text/html": [
       "<div>\n",
       "<table border=\"1\" class=\"dataframe\">\n",
       "  <thead>\n",
       "    <tr style=\"text-align: right;\">\n",
       "      <th></th>\n",
       "      <th>id</th>\n",
       "      <th>random</th>\n",
       "      <th>sin</th>\n",
       "    </tr>\n",
       "  </thead>\n",
       "  <tbody>\n",
       "    <tr>\n",
       "      <th>0</th>\n",
       "      <td>0</td>\n",
       "      <td>2.336432</td>\n",
       "      <td>0.822781</td>\n",
       "    </tr>\n",
       "    <tr>\n",
       "      <th>1</th>\n",
       "      <td>1</td>\n",
       "      <td>-0.810542</td>\n",
       "      <td>0.814898</td>\n",
       "    </tr>\n",
       "    <tr>\n",
       "      <th>2</th>\n",
       "      <td>2</td>\n",
       "      <td>-0.133115</td>\n",
       "      <td>0.569655</td>\n",
       "    </tr>\n",
       "    <tr>\n",
       "      <th>3</th>\n",
       "      <td>3</td>\n",
       "      <td>0.298496</td>\n",
       "      <td>0.262812</td>\n",
       "    </tr>\n",
       "    <tr>\n",
       "      <th>4</th>\n",
       "      <td>4</td>\n",
       "      <td>-1.314676</td>\n",
       "      <td>0.329966</td>\n",
       "    </tr>\n",
       "  </tbody>\n",
       "</table>\n",
       "</div>"
      ],
      "text/plain": [
       "   id    random       sin\n",
       "0   0  2.336432  0.822781\n",
       "1   1 -0.810542  0.814898\n",
       "2   2 -0.133115  0.569655\n",
       "3   3  0.298496  0.262812\n",
       "4   4 -1.314676  0.329966"
      ]
     },
     "execution_count": 27,
     "metadata": {},
     "output_type": "execute_result"
    }
   ],
   "source": [
    "dict_data = {'id': range(100), 'random': numpy.random.normal(size=100), 'sin': numpy.sin(numpy.random.random(100))}\n",
    "df = pandas.DataFrame(dict_data)\n",
    "df.head()"
   ]
  },
  {
   "cell_type": "markdown",
   "metadata": {},
   "source": [
    "### Comma-separated values (CSV) \n",
    "\n",
    "This data format is a widely spread among data scientists. CSV is a common format that’s used to divide data into fields that are separated by delimiters (in this case by comma, but tab delimiter '\\t' is also spread). Data are represented as table: rows are objects (events in HEP), columns are fields or features (branches in HEP). "
   ]
  },
  {
   "cell_type": "markdown",
   "metadata": {},
   "source": [
    "#### save data into `.csv`"
   ]
  },
  {
   "cell_type": "code",
   "execution_count": 28,
   "metadata": {
    "collapsed": true
   },
   "outputs": [],
   "source": [
    "df.to_csv('example.csv', sep=',', index=False)"
   ]
  },
  {
   "cell_type": "markdown",
   "metadata": {},
   "source": [
    "#### read `.csv` file into `pandas.DataFrame`"
   ]
  },
  {
   "cell_type": "code",
   "execution_count": 29,
   "metadata": {
    "collapsed": false
   },
   "outputs": [
    {
     "data": {
      "text/html": [
       "<div>\n",
       "<table border=\"1\" class=\"dataframe\">\n",
       "  <thead>\n",
       "    <tr style=\"text-align: right;\">\n",
       "      <th></th>\n",
       "      <th>id</th>\n",
       "      <th>random</th>\n",
       "      <th>sin</th>\n",
       "    </tr>\n",
       "  </thead>\n",
       "  <tbody>\n",
       "    <tr>\n",
       "      <th>0</th>\n",
       "      <td>0</td>\n",
       "      <td>2.336432</td>\n",
       "      <td>0.822781</td>\n",
       "    </tr>\n",
       "    <tr>\n",
       "      <th>1</th>\n",
       "      <td>1</td>\n",
       "      <td>-0.810542</td>\n",
       "      <td>0.814898</td>\n",
       "    </tr>\n",
       "    <tr>\n",
       "      <th>2</th>\n",
       "      <td>2</td>\n",
       "      <td>-0.133115</td>\n",
       "      <td>0.569655</td>\n",
       "    </tr>\n",
       "    <tr>\n",
       "      <th>3</th>\n",
       "      <td>3</td>\n",
       "      <td>0.298496</td>\n",
       "      <td>0.262812</td>\n",
       "    </tr>\n",
       "    <tr>\n",
       "      <th>4</th>\n",
       "      <td>4</td>\n",
       "      <td>-1.314676</td>\n",
       "      <td>0.329966</td>\n",
       "    </tr>\n",
       "  </tbody>\n",
       "</table>\n",
       "</div>"
      ],
      "text/plain": [
       "   id    random       sin\n",
       "0   0  2.336432  0.822781\n",
       "1   1 -0.810542  0.814898\n",
       "2   2 -0.133115  0.569655\n",
       "3   3  0.298496  0.262812\n",
       "4   4 -1.314676  0.329966"
      ]
     },
     "execution_count": 29,
     "metadata": {},
     "output_type": "execute_result"
    }
   ],
   "source": [
    "pandas.read_csv('example.csv', sep=',').head()"
   ]
  },
  {
   "cell_type": "markdown",
   "metadata": {},
   "source": [
    "### ROOT format\n",
    "\n",
    "ROOT provides a file format that is a machine-independent compressed binary format, including both the data and its description, and provides an open-source automated tool to generate the data description (or \"dictionary\") when saving data, and to generate C++ classes corresponding to this description when reading back the data.  The dictionary is used to build and load the C++ code to load the binary objects saved in the ROOT file and to store them into instances of the automatically generated C++ classes.\n",
    "\n",
    "Details https://root.cern.ch/drupal/content/root-files-1"
   ]
  },
  {
   "cell_type": "markdown",
   "metadata": {},
   "source": [
    "### `root_numpy` - interface between ROOT and NumPy\n",
    "http://rootpy.github.io/root_numpy"
   ]
  },
  {
   "cell_type": "code",
   "execution_count": 30,
   "metadata": {
    "collapsed": true
   },
   "outputs": [],
   "source": [
    "import root_numpy"
   ]
  },
  {
   "cell_type": "markdown",
   "metadata": {},
   "source": [
    "#### create `.root` from `pandas.DataFrame`"
   ]
  },
  {
   "cell_type": "code",
   "execution_count": 31,
   "metadata": {
    "collapsed": false
   },
   "outputs": [],
   "source": [
    "root_numpy.array2root(df.to_records(), 'example.root', treename='data', mode='recreate')"
   ]
  },
  {
   "cell_type": "markdown",
   "metadata": {},
   "source": [
    "#### read from `.root` to `numpy.array`"
   ]
  },
  {
   "cell_type": "code",
   "execution_count": 32,
   "metadata": {
    "collapsed": true
   },
   "outputs": [],
   "source": [
    "root_data = root_numpy.root2array('example.root', treename='data', branches=['random', 'sin'], \n",
    "                                  selection='random > 0.')"
   ]
  },
  {
   "cell_type": "code",
   "execution_count": 33,
   "metadata": {
    "collapsed": false
   },
   "outputs": [
    {
     "data": {
      "text/plain": [
       "array([(2.336431639809109, 0.8227811915510843),\n",
       "       (0.2984961021830935, 0.2628122700006566),\n",
       "       (1.1208235276459444, 0.20565587397233215),\n",
       "       (0.10761946876759353, 0.28953888311298587),\n",
       "       (1.8151800992344758, 0.152323250585665),\n",
       "       (0.2697358666293772, 0.7314959866670023),\n",
       "       (0.43351111206759985, 0.7251350333823199),\n",
       "       (0.057673446979568097, 0.7712911474504108),\n",
       "       (0.8454683813675241, 0.7426665450133729),\n",
       "       (0.18838949702481697, 0.05920266119720316),\n",
       "       (1.3300303243975264, 0.4092026541755449),\n",
       "       (1.3139128293428362, 0.07126419692356664),\n",
       "       (0.40741159480906075, 0.3783899434148617),\n",
       "       (0.4739226849351842, 0.2726341350887104),\n",
       "       (0.3435099539628237, 0.7002928455419898),\n",
       "       (0.8051151018177821, 0.25735284782971385),\n",
       "       (0.3206301056411218, 0.14969329474253837),\n",
       "       (0.986491328524166, 0.40041942511169293),\n",
       "       (0.7101478297032612, 0.2806898417430902),\n",
       "       (0.35101532728992096, 0.3761098770172829),\n",
       "       (1.1927533245278277, 0.5291227537803385),\n",
       "       (0.29548683011235877, 0.46445237338418244),\n",
       "       (0.10918420079835267, 0.06545015685410029),\n",
       "       (0.6619254406794791, 0.7979980900090864),\n",
       "       (0.9541839465203888, 0.30215900172229154),\n",
       "       (0.5756467728350416, 0.22908690996648887),\n",
       "       (1.1285607707898533, 0.7022613049026654),\n",
       "       (1.0568727374633535, 0.4715175679647764),\n",
       "       (0.24922120730707667, 0.6431791291642196),\n",
       "       (0.0849787608133388, 0.23589379920088174),\n",
       "       (0.6010556807272674, 0.3407722830836985),\n",
       "       (0.05348842132887892, 0.6119845228278948),\n",
       "       (1.1387893543042251, 0.183246965814638),\n",
       "       (0.5297643764418577, 0.26346266155886755),\n",
       "       (1.3030739388539967, 0.232992134494141),\n",
       "       (0.9234580688627007, 0.3723430411830066),\n",
       "       (0.8270097182872687, 0.02795677747750509),\n",
       "       (0.5843272134044258, 0.463927507591983),\n",
       "       (0.8019611380695904, 0.044995501157025206),\n",
       "       (0.8172048393734748, 0.13049223145695782),\n",
       "       (0.5769551435232897, 0.40525846451934366),\n",
       "       (0.12733685231761546, 0.48743878456456086),\n",
       "       (2.922338171614526, 0.7639579864967385),\n",
       "       (0.7594332880829915, 0.3466077421593438),\n",
       "       (0.9832401006616747, 0.18449892015882868),\n",
       "       (0.17862194061028247, 0.20771335512187608),\n",
       "       (0.09927182029322217, 0.595242175032515),\n",
       "       (0.357411717216329, 0.4308000436207529),\n",
       "       (0.005012625472216446, 0.4894010821779415),\n",
       "       (0.029488536603779807, 0.5699564013935202)], \n",
       "      dtype=[('random', '<f8'), ('sin', '<f8')])"
      ]
     },
     "execution_count": 33,
     "metadata": {},
     "output_type": "execute_result"
    }
   ],
   "source": [
    "root_data"
   ]
  },
  {
   "cell_type": "code",
   "execution_count": 34,
   "metadata": {
    "collapsed": false
   },
   "outputs": [
    {
     "data": {
      "text/plain": [
       "dtype([('random', '<f8'), ('sin', '<f8')])"
      ]
     },
     "execution_count": 34,
     "metadata": {},
     "output_type": "execute_result"
    }
   ],
   "source": [
    "# Note that here numpy.array has named dtype\n",
    "root_data.dtype"
   ]
  },
  {
   "cell_type": "code",
   "execution_count": 35,
   "metadata": {
    "collapsed": false
   },
   "outputs": [
    {
     "name": "stdout",
     "output_type": "stream",
     "text": [
      "50\n"
     ]
    },
    {
     "data": {
      "image/png": "[encoded data removed]",
      "text/plain": [
       "<matplotlib.figure.Figure at 0x1072da3d0>"
      ]
     },
     "metadata": {},
     "output_type": "display_data"
    }
   ],
   "source": [
    "print len(root_data)\n",
    "hist(root_data['random'], bins=30)\n",
    "pass"
   ]
  },
  {
   "cell_type": "markdown",
   "metadata": {},
   "source": [
    "#### convert to `pandas.DataFrame`"
   ]
  },
  {
   "cell_type": "code",
   "execution_count": 36,
   "metadata": {
    "collapsed": false
   },
   "outputs": [
    {
     "data": {
      "text/html": [
       "<div>\n",
       "<table border=\"1\" class=\"dataframe\">\n",
       "  <thead>\n",
       "    <tr style=\"text-align: right;\">\n",
       "      <th></th>\n",
       "      <th>random</th>\n",
       "      <th>sin</th>\n",
       "    </tr>\n",
       "  </thead>\n",
       "  <tbody>\n",
       "    <tr>\n",
       "      <th>0</th>\n",
       "      <td>2.336432</td>\n",
       "      <td>0.822781</td>\n",
       "    </tr>\n",
       "    <tr>\n",
       "      <th>1</th>\n",
       "      <td>0.298496</td>\n",
       "      <td>0.262812</td>\n",
       "    </tr>\n",
       "    <tr>\n",
       "      <th>2</th>\n",
       "      <td>1.120824</td>\n",
       "      <td>0.205656</td>\n",
       "    </tr>\n",
       "    <tr>\n",
       "      <th>3</th>\n",
       "      <td>0.107619</td>\n",
       "      <td>0.289539</td>\n",
       "    </tr>\n",
       "    <tr>\n",
       "      <th>4</th>\n",
       "      <td>1.815180</td>\n",
       "      <td>0.152323</td>\n",
       "    </tr>\n",
       "  </tbody>\n",
       "</table>\n",
       "</div>"
      ],
      "text/plain": [
       "     random       sin\n",
       "0  2.336432  0.822781\n",
       "1  0.298496  0.262812\n",
       "2  1.120824  0.205656\n",
       "3  0.107619  0.289539\n",
       "4  1.815180  0.152323"
      ]
     },
     "execution_count": 36,
     "metadata": {},
     "output_type": "execute_result"
    }
   ],
   "source": [
    "pandas.DataFrame(root_data).head()"
   ]
  },
  {
   "cell_type": "markdown",
   "metadata": {},
   "source": [
    "## Exercise"
   ]
  },
  {
   "cell_type": "markdown",
   "metadata": {},
   "source": [
    "\n",
    "### Read `example.root` with `id > 10 and (random + sin > 1.4 or random * sin > 0.5)`"
   ]
  },
  {
   "cell_type": "code",
   "execution_count": 37,
   "metadata": {
    "collapsed": true
   },
   "outputs": [],
   "source": [
    "root_data = root_numpy.root2array('example.root', treename='data', branches=['random', 'sin'],\n",
    "                                  selection='(id > 10) && ((random + sin > 1.5) || (random * sin < 0.2))')"
   ]
  },
  {
   "cell_type": "markdown",
   "metadata": {},
   "source": [
    "### Plot scatter  `random + sin` vs `random * sin` \n",
    "\n",
    "Hint: use scatter function from matplotlib"
   ]
  },
  {
   "cell_type": "code",
   "execution_count": 38,
   "metadata": {
    "collapsed": false
   },
   "outputs": [
    {
     "data": {
      "text/plain": [
       "<matplotlib.text.Text at 0x109c6bf90>"
      ]
     },
     "execution_count": 38,
     "metadata": {},
     "output_type": "execute_result"
    },
    {
     "data": {
      "image/png": "[encoded data removed]",
      "text/plain": [
       "<matplotlib.figure.Figure at 0x109b2fe90>"
      ]
     },
     "metadata": {},
     "output_type": "display_data"
    }
   ],
   "source": [
    "scatter(root_data['random'] + root_data['sin'], root_data['random'] * root_data['sin'], alpha=0.5)\n",
    "xlabel('sum')\n",
    "ylabel('mult')"
   ]
  }
 ],
 "metadata": {
  "kernelspec": {
   "display_name": "Python 2",
   "language": "python",
   "name": "python2"
  },
  "language_info": {
   "codemirror_mode": {
    "name": "ipython",
    "version": 2
   },
   "file_extension": ".py",
   "mimetype": "text/x-python",
   "name": "python",
   "nbconvert_exporter": "python",
   "pygments_lexer": "ipython2",
   "version": "2.7.8"
  }
 },
 "nbformat": 4,
 "nbformat_minor": 0
}
