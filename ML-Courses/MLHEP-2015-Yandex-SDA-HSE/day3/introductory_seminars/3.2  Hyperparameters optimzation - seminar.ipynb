{
 "cells": [
  {
   "cell_type": "code",
   "execution_count": 2,
   "metadata": {
    "collapsed": false,
    "slideshow": {
     "slide_type": "skip"
    }
   },
   "outputs": [],
   "source": [
    "%matplotlib inline\n",
    "import matplotlib.pyplot as plt\n",
    "import pandas as pd\n",
    "import numpy as np"
   ]
  },
  {
   "cell_type": "code",
   "execution_count": 12,
   "metadata": {
    "collapsed": false,
    "slideshow": {
     "slide_type": "skip"
    }
   },
   "outputs": [],
   "source": [
    "# Please note that ensembles usually need several times more time to run than\n",
    "# simple algorithms. For the demonstration purposes we'll limit ourselves \n",
    "# with a subset of the hits. I ecourage you to use a subset for expolaration, then \n",
    "# train the final model on the whole dataset. Also please note that some estimator parameters\n",
    "# like n_neighbours need to be scaled with the dataset.\n",
    "# We'll take 200 events.\n",
    "hits_train = pd.read_csv(\"~/data/train.csv\", nrows=896400)\n",
    "candidates = hits_train.loc[(hits_train.energy_deposit > 0)]\n",
    "from sklearn.cross_validation import cross_val_score\n",
    "from sklearn.preprocessing import scale\n",
    "transformed_energy = np.log(candidates.energy_deposit)**2\n",
    "transformed_time = candidates.relative_time**2\n",
    "comet_features = scale(np.concatenate(\n",
    "        (transformed_energy[:, np.newaxis], transformed_time[:, np.newaxis]), axis=1))\n",
    "comet_labels = (candidates.label == 1).values"
   ]
  },
  {
   "cell_type": "markdown",
   "metadata": {
    "collapsed": true,
    "slideshow": {
     "slide_type": "slide"
    }
   },
   "source": [
    "# Hyperparameters optimization\n",
    "Your good old optimization problem on cross-validation score (it has no gradient and is not guaranteed to be convex).\n",
    "1. Each cross-validation is *very* expensive\n",
    "2. The more information you use, the better.\n",
    "3. Some points take longer than the others to compute.\n",
    "4. Many approaches.\n",
    "\n",
    "If done hard enough in a big enough parameter space, will overfit - see the article in cv-section of the yesterday's seminar."
   ]
  },
  {
   "cell_type": "markdown",
   "metadata": {
    "collapsed": true,
    "slideshow": {
     "slide_type": "subslide"
    }
   },
   "source": [
    "## Exhaustive GridSearch\n",
    "Tries all parameters combinations. Is expensive."
   ]
  },
  {
   "cell_type": "code",
   "execution_count": 13,
   "metadata": {
    "collapsed": false
   },
   "outputs": [],
   "source": [
    "np.random.seed(42)\n",
    "x_space = np.random.uniform(0, 1, size=60)\n",
    "y0 = x_space + 0.2 + np.random.normal(size=len(x_space), scale=0.1)\n",
    "y1 = x_space + np.random.normal(size=len(x_space), scale=0.1)\n",
    "shuffle = np.random.permutation(2*len(x_space))\n",
    "line_features = np.concatenate((np.concatenate((x_space, x_space))[:, np.newaxis],\n",
    "                          np.concatenate((y0, y1))[:, np.newaxis]), axis=1)[shuffle]\n",
    "line_labels = np.concatenate((np.zeros(len(y0)), np.ones(len(y1))))[shuffle]"
   ]
  },
  {
   "cell_type": "code",
   "execution_count": 14,
   "metadata": {
    "collapsed": false
   },
   "outputs": [
    {
     "data": {
      "text/plain": [
       "GridSearchCV(cv=4, error_score='raise',\n",
       "       estimator=RandomForestClassifier(bootstrap=True, class_weight=None, criterion='gini',\n",
       "            max_depth=None, max_features='auto', max_leaf_nodes=None,\n",
       "            min_samples_leaf=1, min_samples_split=2,\n",
       "            min_weight_fraction_leaf=0.0, n_estimators=10, n_jobs=1,\n",
       "            oob_score=False, random_state=42, verbose=0, warm_start=False),\n",
       "       fit_params={}, iid=True, loss_func=None, n_jobs=2,\n",
       "       param_grid={'min_samples_split': (2, 3, 4, 5, 10), 'n_estimators': (1, 10, 50, 100), 'criterion': ('gini', 'entropy'), 'max_depth': (1, 5, None)},\n",
       "       pre_dispatch='2*n_jobs', refit=True, score_func=None,\n",
       "       scoring='roc_auc', verbose=0)"
      ]
     },
     "execution_count": 14,
     "metadata": {},
     "output_type": "execute_result"
    }
   ],
   "source": [
    "from sklearn.ensemble import RandomForestClassifier\n",
    "from sklearn.grid_search import GridSearchCV\n",
    "grid_search_cv = GridSearchCV(RandomForestClassifier(random_state=42), {\n",
    "        'criterion': ('gini', 'entropy'),\n",
    "        'max_depth': (1, 5, None),\n",
    "        'min_samples_split': (2, 3, 4, 5, 10),\n",
    "        'n_estimators': (1, 10, 50, 100)}, scoring='roc_auc', n_jobs=2, cv=4)\n",
    "grid_search_cv.fit(line_features, line_labels)"
   ]
  },
  {
   "cell_type": "code",
   "execution_count": 15,
   "metadata": {
    "collapsed": false
   },
   "outputs": [
    {
     "name": "stdout",
     "output_type": "stream",
     "text": [
      "0.73\n",
      "0.6875\n"
     ]
    },
    {
     "data": {
      "text/plain": [
       "RandomForestClassifier(bootstrap=True, class_weight=None, criterion='gini',\n",
       "            max_depth=None, max_features='auto', max_leaf_nodes=None,\n",
       "            min_samples_leaf=1, min_samples_split=5,\n",
       "            min_weight_fraction_leaf=0.0, n_estimators=100, n_jobs=1,\n",
       "            oob_score=False, random_state=42, verbose=0, warm_start=False)"
      ]
     },
     "execution_count": 15,
     "metadata": {},
     "output_type": "execute_result"
    }
   ],
   "source": [
    "print(grid_search_cv.best_score_)\n",
    "print(cross_val_score(RandomForestClassifier(n_jobs=2), line_features, line_labels, scoring='roc_auc').mean())\n",
    "grid_search_cv.best_estimator_"
   ]
  },
  {
   "cell_type": "code",
   "execution_count": 16,
   "metadata": {
    "collapsed": false
   },
   "outputs": [
    {
     "data": {
      "image/png": "[encoded data removed]",
      "text/plain": [
       "<matplotlib.figure.Figure at 0x7f0b4a4dfe90>"
      ]
     },
     "metadata": {},
     "output_type": "display_data"
    }
   ],
   "source": [
    "grid_values = map(lambda score_list: score_list.mean_validation_score, grid_search_cv.grid_scores_)\n",
    "_=plt.hist(grid_values, bins=35)"
   ]
  },
  {
   "cell_type": "code",
   "execution_count": 17,
   "metadata": {
    "collapsed": false
   },
   "outputs": [
    {
     "ename": "NameError",
     "evalue": "name 'plot_decision_on_axes' is not defined",
     "output_type": "error",
     "traceback": [
      "\u001b[1;31m---------------------------------------------------------------------------\u001b[0m",
      "\u001b[1;31mNameError\u001b[0m                                 Traceback (most recent call last)",
      "\u001b[1;32m<ipython-input-17-aa6205e3da31>\u001b[0m in \u001b[0;36m<module>\u001b[1;34m()\u001b[0m\n\u001b[0;32m      1\u001b[0m \u001b[0mfig\u001b[0m\u001b[1;33m,\u001b[0m \u001b[0max\u001b[0m \u001b[1;33m=\u001b[0m \u001b[0mplt\u001b[0m\u001b[1;33m.\u001b[0m\u001b[0msubplots\u001b[0m\u001b[1;33m(\u001b[0m\u001b[1;33m)\u001b[0m\u001b[1;33m\u001b[0m\u001b[0m\n\u001b[1;32m----> 2\u001b[1;33m \u001b[0mplot_decision_on_axes\u001b[0m\u001b[1;33m(\u001b[0m\u001b[0mgrid_search_cv\u001b[0m\u001b[1;33m.\u001b[0m\u001b[0mbest_estimator_\u001b[0m\u001b[1;33m,\u001b[0m \u001b[0max\u001b[0m\u001b[1;33m,\u001b[0m \u001b[0mline_features\u001b[0m\u001b[1;33m,\u001b[0m \u001b[0mline_labels\u001b[0m\u001b[1;33m)\u001b[0m\u001b[1;33m\u001b[0m\u001b[0m\n\u001b[0m",
      "\u001b[1;31mNameError\u001b[0m: name 'plot_decision_on_axes' is not defined"
     ]
    },
    {
     "data": {
      "image/png": "[encoded data removed]",
      "text/plain": [
       "<matplotlib.figure.Figure at 0x7f0b27b25790>"
      ]
     },
     "metadata": {},
     "output_type": "display_data"
    }
   ],
   "source": [
    "fig, ax = plt.subplots()\n",
    "plot_decision_on_axes(grid_search_cv.best_estimator_, ax, line_features, line_labels)"
   ]
  },
  {
   "cell_type": "markdown",
   "metadata": {
    "slideshow": {
     "slide_type": "subslide"
    }
   },
   "source": [
    "## Regressor-based search\n",
    "1. Fits a regressor on all evaluated points\n",
    "2. Uses an optimization algorithm to find the extremum. Please note that REP operates on the grid points.\n",
    "3. Evaluates cross-validation in the regressor extremum\n",
    "4. GoTo 1"
   ]
  },
  {
   "cell_type": "markdown",
   "metadata": {
    "slideshow": {
     "slide_type": "subslide"
    }
   },
   "source": [
    "## Gaussian process\n",
    "Fancy regressor - it can handle uncertainty."
   ]
  },
  {
   "cell_type": "code",
   "execution_count": 3,
   "metadata": {
    "collapsed": true
   },
   "outputs": [],
   "source": [
    "# https://github.com/yandex/rep/blob/master/howto/03-howto-gridsearch.ipynb"
   ]
  },
  {
   "cell_type": "markdown",
   "metadata": {},
   "source": [
    "A Gaussian process optimizer not stuck to the grid.\n",
    "https://github.com/fmfn/BayesianOptimization/blob/master/examples/sklearn_example.py"
   ]
  },
  {
   "cell_type": "code",
   "execution_count": null,
   "metadata": {
    "collapsed": false
   },
   "outputs": [
    {
     "name": "stdout",
     "output_type": "stream",
     "text": [
      "Initializing function at point:  {'C': 0.001, 'gamma': 0.001} | result: 0.000000\n",
      "Initializing function at point:  {'C': 0.01, 'gamma': 0.01} | result: 0.009555\n",
      "Initializing function at point:  {'C': 0.1, 'gamma': 0.1} | result: 0.000000\n",
      "Initializing function at point:  {'C': 4.5154968469486354, 'gamma': 0.021728284554773616} | result: 0.941686\n",
      "Initializing function at point:  {'C': 49.24465270126823, 'gamma': 0.0067264875307147653} | result: 0.943655\n",
      "Initializing function at point:  {'C': 95.754757521767274, 'gamma': 0.038553652526436992} | result: 0.914162\n",
      "Initializing function at point:  {'C': 84.626173057479519, 'gamma': 0.081656605740562119} | result: 0.651125\n",
      "Initializing function at point:  {'C': 47.88453162937946, 'gamma': 0.048562304553189557} | result: 0.874855\n",
      "Iteration:   1 | Last sampled value:    0.705566 | with parameters:  {'C': 100.0, 'gamma': 0.077296206077338087}\n",
      "               | Current maximum:       0.943655 | with parameters:  {'C': 49.24465270126823, 'gamma': 0.0067264875307147653}\n",
      "               | Time taken: 0 minutes and 5.674949 seconds\n",
      "\n",
      "Iteration:   2 | Last sampled value:    0.905704 | with parameters:  {'C': 100.0, 'gamma': 0.0001}\n",
      "               | Current maximum:       0.943655 | with parameters:  {'C': 49.24465270126823, 'gamma': 0.0067264875307147653}\n",
      "               | Time taken: 0 minutes and 3.502502 seconds\n",
      "\n",
      "Iteration:   3 | Last sampled value:    0.118721 | with parameters:  {'C': 0.88678128958466407, 'gamma': 0.06694788738030874}\n",
      "               | Current maximum:       0.943655 | with parameters:  {'C': 49.24465270126823, 'gamma': 0.0067264875307147653}\n",
      "               | Time taken: 0 minutes and 4.770174 seconds\n",
      "\n",
      "Iteration:   4 | Last sampled value:    0.407349 | with parameters:  {'C': 44.104652503937622, 'gamma': 0.10000000000000001}\n",
      "               | Current maximum:       0.943655 | with parameters:  {'C': 49.24465270126823, 'gamma': 0.0067264875307147653}\n",
      "               | Time taken: 0 minutes and 4.747792 seconds\n",
      "\n",
      "Iteration:   5 | Last sampled value:    0.879390 | with parameters:  {'C': 22.707644812279351, 'gamma': 0.0001}\n",
      "               | Current maximum:       0.943655 | with parameters:  {'C': 49.24465270126823, 'gamma': 0.0067264875307147653}\n",
      "               | Time taken: 0 minutes and 3.096937 seconds\n",
      "\n",
      "Iteration:   6 | Last sampled value:    0.407349 | with parameters:  {'C': 100.0, 'gamma': 0.10000000000000001}\n",
      "               | Current maximum:       0.943655 | with parameters:  {'C': 49.24465270126823, 'gamma': 0.0067264875307147653}\n",
      "               | Time taken: 0 minutes and 5.412469 seconds\n",
      "\n",
      "Iteration:   7 | Last sampled value:    0.901041 | with parameters:  {'C': 80.184044827422397, 'gamma': 0.0001}\n",
      "               | Current maximum:       0.943655 | with parameters:  {'C': 49.24465270126823, 'gamma': 0.0067264875307147653}\n",
      "               | Time taken: 0 minutes and 5.797958 seconds\n",
      "\n",
      "Iteration:   8 | Last sampled value:    0.927577 | with parameters:  {'C': 23.73274018385143, 'gamma': 0.031426861032867841}\n",
      "               | Current maximum:       0.943655 | with parameters:  {'C': 49.24465270126823, 'gamma': 0.0067264875307147653}\n",
      "               | Time taken: 0 minutes and 6.945486 seconds\n",
      "\n",
      "Iteration:   9 | Last sampled value:    0.407349 | with parameters:  {'C': 74.697509211737184, 'gamma': 0.10000000000000001}\n",
      "               | Current maximum:       0.943655 | with parameters:  {'C': 49.24465270126823, 'gamma': 0.0067264875307147653}\n",
      "               | Time taken: 0 minutes and 10.155266 seconds\n",
      "\n",
      "Iteration:  10 | Last sampled value:    0.000000 | with parameters:  {'C': 0.0010219197380492832, 'gamma': 0.041573740275526502}\n",
      "               | Current maximum:       0.943655 | with parameters:  {'C': 49.24465270126823, 'gamma': 0.0067264875307147653}\n",
      "               | Time taken: 0 minutes and 9.701107 seconds\n",
      "\n",
      "Iteration:  11 | Last sampled value:    0.934626 | with parameters:  {'C': 71.261926133780079, 'gamma': 0.026281883347014798}\n",
      "               | Current maximum:       0.943655 | with parameters:  {'C': 49.24465270126823, 'gamma': 0.0067264875307147653}\n",
      "               | Time taken: 0 minutes and 8.581551 seconds\n",
      "\n",
      "Iteration:  12 | Last sampled value:    0.634738 | with parameters:  {'C': 55.081072865147085, 'gamma': 0.083545045589248995}\n",
      "               | Current maximum:       0.943655 | with parameters:  {'C': 49.24465270126823, 'gamma': 0.0067264875307147653}\n",
      "               | Time taken: 0 minutes and 7.30783 seconds\n",
      "\n",
      "Iteration:  13 | Last sampled value:    0.407349 | with parameters:  {'C': 15.745436737930593, 'gamma': 0.09999999994480134}\n",
      "               | Current maximum:       0.943655 | with parameters:  {'C': 49.24465270126823, 'gamma': 0.0067264875307147653}\n",
      "               | Time taken: 0 minutes and 7.252135 seconds\n",
      "\n",
      "Iteration:  14 | Last sampled value:    0.840896 | with parameters:  {'C': 78.56653953179412, 'gamma': 0.056351491041822008}\n",
      "               | Current maximum:       0.943655 | with parameters:  {'C': 49.24465270126823, 'gamma': 0.0067264875307147653}\n",
      "               | Time taken: 0 minutes and 9.370396 seconds\n",
      "\n",
      "Iteration:  15 | Last sampled value:    0.898590 | with parameters:  {'C': 61.068174883410229, 'gamma': 0.0001}\n",
      "               | Current maximum:       0.943655 | with parameters:  {'C': 49.24465270126823, 'gamma': 0.0067264875307147653}\n",
      "               | Time taken: 0 minutes and 5.344581 seconds\n",
      "\n",
      "Iteration:  16 | Last sampled value:    0.947863 | with parameters:  {'C': 97.580625721821249, 'gamma': 0.013383222661898935}\n",
      "               | Current maximum:       0.947863 | with parameters:  {'C': 97.580625721821249, 'gamma': 0.013383222661898935}\n",
      "               | Time taken: 0 minutes and 5.614404 seconds\n",
      "\n",
      "Iteration:  17 | Last sampled value:    0.947007 | with parameters:  {'C': 11.627961834127564, 'gamma': 0.0086382370511674592}\n",
      "               | Current maximum:       0.947863 | with parameters:  {'C': 97.580625721821249, 'gamma': 0.013383222661898935}\n",
      "               | Time taken: 0 minutes and 6.328464 seconds\n",
      "\n",
      "Iteration:  18 | Last sampled value:    0.549446 | with parameters:  {'C': 5.4322470587872864, 'gamma': 0.090262081891320012}\n",
      "               | Current maximum:       0.947863 | with parameters:  {'C': 97.580625721821249, 'gamma': 0.013383222661898935}\n",
      "               | Time taken: 0 minutes and 6.458138 seconds\n",
      "\n",
      "Iteration:  19 | Last sampled value:    0.933691 | with parameters:  {'C': 48.656617417217284, 'gamma': 0.028334960131872852}\n",
      "               | Current maximum:       0.947863 | with parameters:  {'C': 97.580625721821249, 'gamma': 0.013383222661898935}\n",
      "               | Time taken: 0 minutes and 6.249337 seconds\n",
      "\n",
      "Iteration:  20 | Last sampled value:    0.814765 | with parameters:  {'C': 95.798705813460614, 'gamma': 0.062252176402693482}\n",
      "               | Current maximum:       0.947863 | with parameters:  {'C': 97.580625721821249, 'gamma': 0.013383222661898935}\n",
      "               | Time taken: 0 minutes and 5.430263 seconds\n",
      "\n",
      "Iteration:  21 | Last sampled value:    0.905341 | with parameters:  {'C': 93.459740096087486, 'gamma': 0.00010200466003179892}\n",
      "               | Current maximum:       0.947863 | with parameters:  {'C': 97.580625721821249, 'gamma': 0.013383222661898935}\n",
      "               | Time taken: 0 minutes and 4.549432 seconds\n",
      "\n",
      "Iteration:  22 | Last sampled value:    0.924502 | with parameters:  {'C': 98.993072358211805, 'gamma': 0.033919491909689792}\n",
      "               | Current maximum:       0.947863 | with parameters:  {'C': 97.580625721821249, 'gamma': 0.013383222661898935}\n",
      "               | Time taken: 0 minutes and 5.869925 seconds\n",
      "\n",
      "Iteration:  23 | Last sampled value:    0.947426 | with parameters:  {'C': 20.883329433897416, 'gamma': 0.017491411521009453}\n",
      "               | Current maximum:       0.947863 | with parameters:  {'C': 97.580625721821249, 'gamma': 0.013383222661898935}\n",
      "               | Time taken: 0 minutes and 4.816671 seconds\n",
      "\n",
      "Iteration:  24 | Last sampled value:    0.926785 | with parameters:  {'C': 9.84540307163787, 'gamma': 0.032166788552591884}\n",
      "               | Current maximum:       0.947863 | with parameters:  {'C': 97.580625721821249, 'gamma': 0.013383222661898935}\n",
      "               | Time taken: 0 minutes and 5.688242 seconds\n",
      "\n",
      "Iteration:  25 | Last sampled value:    0.874999 | with parameters:  {'C': 9.8431627936570738, 'gamma': 0.00010006963965622921}\n",
      "               | Current maximum:       0.947863 | with parameters:  {'C': 97.580625721821249, 'gamma': 0.013383222661898935}\n",
      "               | Time taken: 0 minutes and 5.541356 seconds\n",
      "\n",
      "Optimization finished with maximum: 0.947863, at position: {'C': 97.580625721821249, 'gamma': 0.013383222661898935}.\n",
      "Time taken: 2 minutes and 52.996477 seconds.\n",
      "-----------------------------------------------------\n",
      "Initializing function at point:  {'n_estimators': 76.61640111457227, 'min_samples_split': 10.751061945805176, 'max_features': 0.53157328014462446} | result: 0.908581\n",
      "Initializing function at point:  {'n_estimators': 36.541552235204726, 'min_samples_split': 14.170604365399218, 'max_features': 0.96828935551621342} | result: 0.895130\n",
      "Initializing function at point:  {'n_estimators': 188.81465902761994, 'min_samples_split': 7.1190778290111245, 'max_features': 0.52491176634012382} | result: 0.911645\n",
      "Initializing function at point:  {'n_estimators': 45.235384810576178, 'min_samples_split': 21.399767329188919, 'max_features': 0.55273060730258383} | result: 0.906650\n",
      "Initializing function at point:  {'n_estimators': 240.11080853904326, 'min_samples_split': 7.4956070326515611, 'max_features': 0.87615532250226413} | result: 0.904972\n",
      "Iteration:   1 | Last sampled value:    0.897946 | with parameters:  {'n_estimators': 250.0, 'min_samples_split': 25.0, 'max_features': 0.099999999999999978}\n",
      "               | Current maximum:       0.911645 | with parameters:  {'n_estimators': 188.81465902761994, 'min_samples_split': 7.1190778290111245, 'max_features': 0.52491176634012382}\n",
      "               | Time taken: 0 minutes and 9.16847 seconds\n",
      "\n",
      "Iteration:   2 | Last sampled value:    0.906048 | with parameters:  {'n_estimators': 147.77754554947489, 'min_samples_split': 2.0, 'max_features': 0.099999999999999978}\n",
      "               | Current maximum:       0.911645 | with parameters:  {'n_estimators': 188.81465902761994, 'min_samples_split': 7.1190778290111245, 'max_features': 0.52491176634012382}\n",
      "               | Time taken: 0 minutes and 6.284453 seconds\n",
      "\n",
      "Iteration:   3 | Last sampled value:    0.903146 | with parameters:  {'n_estimators': 135.48108388432615, 'min_samples_split': 16.187031156368271, 'max_features': 0.10000000000000001}\n",
      "               | Current maximum:       0.911645 | with parameters:  {'n_estimators': 188.81465902761994, 'min_samples_split': 7.1190778290111245, 'max_features': 0.52491176634012382}\n",
      "               | Time taken: 0 minutes and 5.966175 seconds\n",
      "\n",
      "Iteration:   4 | Last sampled value:    0.895385 | with parameters:  {'n_estimators': 155.7381460161335, 'min_samples_split': 25.0, 'max_features': 0.999}\n",
      "               | Current maximum:       0.911645 | with parameters:  {'n_estimators': 188.81465902761994, 'min_samples_split': 7.1190778290111245, 'max_features': 0.52491176634012382}\n",
      "               | Time taken: 0 minutes and 43.7349 seconds\n",
      "\n",
      "Iteration:   5 | Last sampled value:    0.896967 | with parameters:  {'n_estimators': 144.88384410223995, 'min_samples_split': 2.0, 'max_features': 0.999}\n",
      "               | Current maximum:       0.911645 | with parameters:  {'n_estimators': 188.81465902761994, 'min_samples_split': 7.1190778290111245, 'max_features': 0.52491176634012382}\n",
      "               | Time taken: 0 minutes and 41.283342 seconds\n",
      "\n",
      "Iteration:   6 | Last sampled value:    0.872645 | with parameters:  {'n_estimators': 10.0, 'min_samples_split': 25.0, 'max_features': 0.10000000000000009}\n",
      "               | Current maximum:       0.911645 | with parameters:  {'n_estimators': 188.81465902761994, 'min_samples_split': 7.1190778290111245, 'max_features': 0.52491176634012382}\n",
      "               | Time taken: 0 minutes and 2.321638 seconds\n",
      "\n",
      "Iteration:   7 | Last sampled value:    0.909010 | with parameters:  {'n_estimators': 250.0, 'min_samples_split': 2.0, 'max_features': 0.10000000000000001}\n",
      "               | Current maximum:       0.911645 | with parameters:  {'n_estimators': 188.81465902761994, 'min_samples_split': 7.1190778290111245, 'max_features': 0.52491176634012382}\n",
      "               | Time taken: 0 minutes and 9.00538 seconds\n",
      "\n",
      "Iteration:   8 | Last sampled value:    0.892023"
     ]
    }
   ],
   "source": [
    "from __future__ import print_function\n",
    "from __future__ import division\n",
    "\n",
    "from sklearn.datasets import make_classification\n",
    "from sklearn.cross_validation import cross_val_score\n",
    "from sklearn.ensemble import RandomForestClassifier as RFC\n",
    "from sklearn.svm import SVC\n",
    "\n",
    "from bayes_opt import BayesianOptimization\n",
    "\n",
    "# Load data set and target values\n",
    "data, target = make_classification(n_samples=2500,\n",
    "                                   n_features=45,\n",
    "                                   n_informative=12,\n",
    "                                   n_redundant=7)\n",
    "\n",
    "def svccv(C, gamma):\n",
    "    return cross_val_score(SVC(C=C, gamma=gamma, random_state=2),\n",
    "                           data, target, 'f1', cv=5).mean()\n",
    "\n",
    "def rfccv(n_estimators, min_samples_split, max_features):\n",
    "    return cross_val_score(RFC(n_estimators=int(n_estimators),\n",
    "                               min_samples_split=int(min_samples_split),\n",
    "                               max_features=min(max_features, 0.999),\n",
    "                               random_state=2),\n",
    "                           data, target, 'f1', cv=5).mean()\n",
    "\n",
    "if __name__ == \"__main__\":\n",
    "\n",
    "    svcBO = BayesianOptimization(svccv, {'C': (0.001, 100), 'gamma': (0.0001, 0.1)})\n",
    "    svcBO.explore({'C': [0.001, 0.01, 0.1], 'gamma': [0.001, 0.01, 0.1]})\n",
    "\n",
    "    rfcBO = BayesianOptimization(rfccv, {'n_estimators': (10, 250),\n",
    "                                         'min_samples_split': (2, 25),\n",
    "                                         'max_features': (0.1, 0.999)})\n",
    "    svcBO.maximize()\n",
    "\n",
    "    print('-'*53)\n",
    "    rfcBO.maximize()\n",
    "\n",
    "    print('-'*53)\n",
    "    print('Final Results')\n",
    "    print('SVC: %f' % svcBO.res['max']['max_val'])\n",
    "    print('RFC: %f' % rfcBO.res['max']['max_val'])"
   ]
  },
  {
   "cell_type": "markdown",
   "metadata": {
    "slideshow": {
     "slide_type": "subslide"
    }
   },
   "source": [
    "## Bonus (this time from me)\n",
    "I've run gaussian-process paramenter optimization over the COMET data for GradientBoosting classifier, the data is available in the seminar folder. It took ~24 hours. See <git root>/day3/introductory_seminars/COMET_gradient_boosting_gauss_opt.csv\n",
    "\n",
    "Note on the file: \"loss\" < 1 means 'deviance', and 'loss' >= 1 means 'exponential'."
   ]
  },
  {
   "cell_type": "markdown",
   "metadata": {
    "collapsed": true,
    "slideshow": {
     "slide_type": "slide"
    }
   },
   "source": [
    "SELF Use hyperparameter optimization to improve your Kaggle score."
   ]
  },
  {
   "cell_type": "markdown",
   "metadata": {
    "slideshow": {
     "slide_type": "skip"
    }
   },
   "source": [
    "# The code used for GP-optimization. It shouldn't run in the cloud."
   ]
  },
  {
   "cell_type": "code",
   "execution_count": 7,
   "metadata": {
    "collapsed": true,
    "slideshow": {
     "slide_type": "skip"
    }
   },
   "outputs": [],
   "source": [
    "import seaborn as sns\n",
    "sns.set_style('whitegrid')\n",
    "sns.set_context(\"talk\")\n",
    "import george\n",
    "from george.kernels import ExpSquaredKernel\n",
    "from scipy.stats import sem\n",
    "from scipy import stats\n",
    "from scipy.optimize import minimize"
   ]
  },
  {
   "cell_type": "code",
   "execution_count": 8,
   "metadata": {
    "collapsed": true,
    "slideshow": {
     "slide_type": "skip"
    }
   },
   "outputs": [],
   "source": [
    "import numpy as np\n",
    "def sample_points(boundaries, n_items):\n",
    "    values = map(lambda boundary: np.random.uniform(boundary[0], boundary[1], size=n_items)[:, np.newaxis],\n",
    "                boundaries)\n",
    "    return np.concatenate(values, axis=1)"
   ]
  },
  {
   "cell_type": "code",
   "execution_count": 65,
   "metadata": {
    "collapsed": false,
    "slideshow": {
     "slide_type": "skip"
    }
   },
   "outputs": [],
   "source": [
    "# https://github.com/Yelp/MOE/blob/master/moe_examples/combined_example.py\n",
    "import numpy\n",
    "\n",
    "from moe.easy_interface.experiment import Experiment\n",
    "from moe.easy_interface.simple_endpoint import gp_next_points, gp_hyper_opt, gp_mean_var\n",
    "from sklearn.grid_search import ParameterSampler\n",
    "from collections import OrderedDict\n",
    "from sklearn.base import clone\n",
    "from scipy.stats import describe\n",
    "from sklearn.cross_validation import cross_val_score\n",
    "\n",
    "def moe_example(a, b):\n",
    "    \"\"\"Calculate an aribitrary 2-d function with some noise.\n",
    "\n",
    "    This function has a minimum near [1, 2.6].\n",
    "    \"\"\"\n",
    "    x = (a, b)\n",
    "    return (numpy.sin(x[0]) * numpy.cos(x[1]) + numpy.cos(x[0] + x[1]) + numpy.random.uniform(-0.02, 0.02),\n",
    "            0.2)\n",
    "\n",
    "class HyperoptMOE(object):\n",
    "    \"\"\"Uses MOE to find the best hyperparameters.\"\"\"\n",
    "    \n",
    "    def __init__(self, estimator, param_grid, param_types=None, num_to_sample=20,\n",
    "                 bootstrap_num=10, verbose=False, **cv_parameters):\n",
    "        \"\"\"\n",
    "        estiamtor - a sklearn estimator to optimize\n",
    "        param_grid - a dict describing parameters. Format: {'param_name': [min, max]}.\n",
    "        Supported types are anything, that can be transpaerntly converted to and from float.\n",
    "        cv_parameters - parameters to pass to sklearn.cross_validation.cross_val_score\n",
    "        \"\"\"\n",
    "        self.estimator = clone(estimator)\n",
    "        self.param_grid = OrderedDict(param_grid.iteritems())\n",
    "        self.param_types = param_types\n",
    "        self.cv_parameters = cv_parameters\n",
    "        self.bootstrap_num = bootstrap_num\n",
    "        self.num_to_sample = num_to_sample\n",
    "        self.verbose=verbose\n",
    "        \n",
    "    def fit(self, X, y):\n",
    "        def moe_target(**parameters):\n",
    "            if self.param_types:\n",
    "                for name, type_ in self.param_types.iteritems():\n",
    "                    parameters[name] = type_(parameters[name])\n",
    "            parametrized_estimator = clone(self.estimator)\n",
    "            parametrized_estimator.set_params(**parameters)\n",
    "            cv_scores = cross_val_score(parametrized_estimator, X, y, **self.cv_parameters)\n",
    "            return (-cv_scores.mean(), np.var(cv_scores))\n",
    "        self.best_score_, self.best_params_, self.experiment = \\\n",
    "            bayes_optimize(moe_target, self.param_grid, self.num_to_sample,\n",
    "                                          self.bootstrap_num, self.verbose)\n",
    "        self.best_estimator_ = clone(self.estimator)\n",
    "        self.best_estimator_.set_params(**self.best_params_)\n",
    "        # For further analysis. To reestablish the relationship between \n",
    "        # columns in the experiment and parameter names, use param_grid\n",
    "        return self.best_estimator_\n",
    "\n",
    "def bayes_optimize(target_function, param_grid, num_to_sample=20, bootstrap_num=10, verbose=True):\n",
    "    param_grid = OrderedDict(param_grid.iteritems())\n",
    "    boundaries = param_grid.values()\n",
    "    param_names = param_grid.keys()\n",
    "    experiment = Experiment(boundaries)\n",
    "    bootstrap_points = sample_points(boundaries, bootstrap_num)\n",
    "    # Bootstrap with some known or already sampled point(s)\n",
    "    # sampled points have the form [point_as_a_list, objective_function_value, value_variance]\n",
    "    def call_target_with_positional_parameters(parameters):\n",
    "        signature = dict(zip(param_names, parameters))\n",
    "        return target_function(**signature)\n",
    "    def bootstrap(point):\n",
    "        function_value, function_variance = call_target_with_positional_parameters(point)\n",
    "        return (point, function_value, function_variance)\n",
    "    experiment.historical_data.append_sample_points(\n",
    "            map(lambda point: bootstrap(point), bootstrap_points))\n",
    "\n",
    "    # Sample points\n",
    "    for i in range(num_to_sample):\n",
    "        covariance_info = gp_hyper_opt(experiment.historical_data.to_list_of_sample_points())\n",
    "        # Use MOE to determine what is the point with highest Expected Improvement to use next\n",
    "        next_point_to_sample = gp_next_points(\n",
    "                experiment,\n",
    "                covariance_info=covariance_info,\n",
    "                )[0]  # By default we only ask for one point\n",
    "        # Sample the point from our objective function, we can replace this with any function\n",
    "        value_of_next_point, variance_of_next_point  = call_target_with_positional_parameters(next_point_to_sample)\n",
    "\n",
    "        if verbose:\n",
    "            print \"Sampled f({0:s}) = {1:.18E}\".format(str(next_point_to_sample), value_of_next_point)\n",
    "\n",
    "        # Add the information about the point to the experiment historical data to inform the GP\n",
    "        experiment.historical_data.append_sample_points(\n",
    "            [[next_point_to_sample, value_of_next_point, variance_of_next_point]])  # We can add some noise\n",
    "    best_point_index = np.argmax(experiment.historical_data._points_sampled_value)\n",
    "    return (experiment.historical_data._points_sampled_value[best_point_index],\n",
    "            dict(zip(param_names, experiment.historical_data._points_sampled[best_point_index])),\n",
    "            experiment)"
   ]
  },
  {
   "cell_type": "code",
   "execution_count": 38,
   "metadata": {
    "collapsed": false,
    "slideshow": {
     "slide_type": "skip"
    }
   },
   "outputs": [
    {
     "name": "stdout",
     "output_type": "stream",
     "text": [
      "Updated covariance_info with {'hyperparameters': [0.695036841999, 2.0, 1.20826917785], 'covariance_type': u'square_exponential'}\n",
      "Sampled f([0.712831935227, 2.6944051048]) = -1.542618111578802464E+00\n",
      "Updated covariance_info with {'hyperparameters': [0.793093957492, 2.0, 1.24903559662], 'covariance_type': u'square_exponential'}\n",
      "Sampled f([0.0, 3.05999722611]) = -9.915569240545721863E-01\n",
      "Updated covariance_info with {'hyperparameters': [0.744723979817, 2.0, 1.23064379128], 'covariance_type': u'square_exponential'}\n",
      "Sampled f([2.0, 2.46275723484]) = -9.714870284425362046E-01\n",
      "Updated covariance_info with {'hyperparameters': [0.709395753796, 2.0, 1.22546198417], 'covariance_type': u'square_exponential'}\n",
      "Sampled f([0.0, 4.0]) = -6.387004758993408693E-01\n",
      "Updated covariance_info with {'hyperparameters': [0.667200775673, 2.0, 1.25249466202], 'covariance_type': u'square_exponential'}\n",
      "Sampled f([0.0, 2.68272303962]) = -8.797188616600383204E-01\n"
     ]
    },
    {
     "data": {
      "text/plain": [
       "({'a': 0.3038053870245887, 'b': 0.16347446506591545},\n",
       " <moe.easy_interface.experiment.Experiment at 0x7feeb804b510>)"
      ]
     },
     "execution_count": 38,
     "metadata": {},
     "output_type": "execute_result"
    }
   ],
   "source": [
    "bayes_optimize(moe_example, {'a': [0, 2], 'b': [0, 4]}, num_to_sample=5)"
   ]
  },
  {
   "cell_type": "code",
   "execution_count": 62,
   "metadata": {
    "collapsed": true,
    "slideshow": {
     "slide_type": "skip"
    }
   },
   "outputs": [],
   "source": [
    "def get_categorical_map(values):\n",
    "    def get_map(x):\n",
    "        return values[int(x)]\n",
    "    return get_map"
   ]
  },
  {
   "cell_type": "code",
   "execution_count": 73,
   "metadata": {
    "collapsed": false,
    "slideshow": {
     "slide_type": "skip"
    }
   },
   "outputs": [],
   "source": [
    "moe_hcv_example = HyperoptMOE(GradientBoostingClassifier(),\n",
    "                              param_grid={\n",
    "                                  'loss': [0, 1.9999],\n",
    "                                  'learning_rate': [1e-3, 1],\n",
    "                                  'n_estimators': [10, 5e2],\n",
    "                                  'max_depth': [1, 11]},\n",
    "                              param_types={\n",
    "                                'loss': get_categorical_map(('deviance', 'exponential')),\n",
    "                                'n_estimators': int,\n",
    "                                'max_depth': int}, \n",
    "                              verbose=True, num_to_sample=10,\n",
    "                              cv=4, n_jobs=-1, scoring='roc_auc')"
   ]
  },
  {
   "cell_type": "code",
   "execution_count": 74,
   "metadata": {
    "collapsed": false,
    "slideshow": {
     "slide_type": "skip"
    }
   },
   "outputs": [
    {
     "name": "stdout",
     "output_type": "stream",
     "text": [
      "Sampled f([16.9042073337, 0.739700841289, 0.404749051509, 4.55673618668]) = -7.483333333333334059E-01\n",
      "Sampled f([15.4618169617, 0.732872488586, 0.397474751269, 4.69026166881]) = -7.388888888888887063E-01\n",
      "Sampled f([17.4744714896, 0.642538285241, 0.384189075209, 6.92951094636]) = -7.166666666666665630E-01\n",
      "Sampled f([19.1108349978, 0.469230442039, 0.406660209505, 6.37123056711]) = -7.238888888888889150E-01\n",
      "Sampled f([16.0684638591, 1.9999, 0.001, 4.38411208661]) = -5.949999999999999734E-01\n",
      "Sampled f([18.7250349012, 1.57316506316, 1.0, 7.17073467732]) = -7.077777777777777279E-01\n",
      "Sampled f([18.7602254897, 1.22486647354, 0.001, 7.41222597082]) = -6.416666666666666075E-01\n",
      "Sampled f([17.7360448625, 0.382636573546, 1.0, 5.96493270597]) = -7.199999999999999734E-01\n",
      "Sampled f([16.1073868116, 0.0, 0.001, 4.2726268765]) = -5.961111111111111471E-01\n",
      "Sampled f([15.8124266162, 1.12524027204, 1.0, 4.03931996818]) = -7.299999999999999822E-01\n"
     ]
    },
    {
     "data": {
      "text/plain": [
       "GradientBoostingClassifier(init=None, learning_rate=0.001, loss=1.9999,\n",
       "              max_depth=4.3841120866100001, max_features=None,\n",
       "              max_leaf_nodes=None, min_samples_leaf=1, min_samples_split=2,\n",
       "              min_weight_fraction_leaf=0.0, n_estimators=16.0684638591,\n",
       "              random_state=None, subsample=1.0, verbose=0,\n",
       "              warm_start=False)"
      ]
     },
     "execution_count": 74,
     "metadata": {},
     "output_type": "execute_result"
    }
   ],
   "source": [
    "moe_hcv_example.fit(line_features, line_labels)"
   ]
  },
  {
   "cell_type": "code",
   "execution_count": 75,
   "metadata": {
    "collapsed": false,
    "slideshow": {
     "slide_type": "skip"
    }
   },
   "outputs": [
    {
     "name": "stdout",
     "output_type": "stream",
     "text": [
      "({'n_estimators': 16.0684638591, 'loss': 1.9999, 'learning_rate': 0.001, 'max_depth': 4.3841120866100001}, -0.59499999999999997)\n"
     ]
    }
   ],
   "source": [
    "print(moe_hcv_example.best_params_, moe_hcv_example.best_score_)"
   ]
  },
  {
   "cell_type": "markdown",
   "metadata": {
    "slideshow": {
     "slide_type": "skip"
    }
   },
   "source": [
    "Run on COMET. This might take a while..."
   ]
  },
  {
   "cell_type": "code",
   "execution_count": 77,
   "metadata": {
    "collapsed": true,
    "slideshow": {
     "slide_type": "skip"
    }
   },
   "outputs": [],
   "source": [
    "moe_hcv_comet = HyperoptMOE(GradientBoostingClassifier(),\n",
    "                              param_grid={\n",
    "                                  'loss': [0, 1.9999],\n",
    "                                  'learning_rate': [1e-3, 1],\n",
    "                                  'n_estimators': [10, 5e2],\n",
    "                                  'max_depth': [1, 11],\n",
    "                                  'min_samples_split': [2, 20],\n",
    "                                  'min_samples_leaf': [1, 10]},\n",
    "                              param_types={\n",
    "                                'loss': get_categorical_map(('deviance', 'exponential')),\n",
    "                                'n_estimators': int,\n",
    "                                'max_depth': int,\n",
    "                                'min_samples_split': int,\n",
    "                                'min_samples_leaf': int}, \n",
    "                              verbose=True, num_to_sample=40,\n",
    "                              cv=4, n_jobs=-1, scoring='roc_auc')"
   ]
  },
  {
   "cell_type": "code",
   "execution_count": null,
   "metadata": {
    "collapsed": true,
    "slideshow": {
     "slide_type": "skip"
    }
   },
   "outputs": [],
   "source": [
    "moe_hcv_comet.fit(comet_features, comet_labels)"
   ]
  }
 ],
 "metadata": {
  "celltoolbar": "Slideshow",
  "kernelspec": {
   "display_name": "Python 2",
   "language": "python",
   "name": "python2"
  },
  "language_info": {
   "codemirror_mode": {
    "name": "ipython",
    "version": 2
   },
   "file_extension": ".py",
   "mimetype": "text/x-python",
   "name": "python",
   "nbconvert_exporter": "python",
   "pygments_lexer": "ipython2",
   "version": "2.7.6"
  }
 },
 "nbformat": 4,
 "nbformat_minor": 0
}
